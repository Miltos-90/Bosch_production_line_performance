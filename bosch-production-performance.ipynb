{
 "cells": [
  {
   "cell_type": "code",
   "execution_count": 1,
   "metadata": {
    "_cell_guid": "b1076dfc-b9ad-4769-8c92-a6c4dae69d19",
    "_uuid": "8f2839f25d086af736a60e9eeb907d3b93b6e0e5",
    "tags": []
   },
   "outputs": [],
   "source": [
    "import numpy as np # linear algebra\n",
    "import pandas as pd # data processing, CSV file I/O (e.g. pd.read_csv)\n",
    "import zipfile\n",
    "import os\n",
    "from collections import Counter\n",
    "import matplotlib.pyplot as plt\n",
    "from functools import reduce\n",
    "from tqdm.notebook import tqdm\n",
    "from scipy import sparse\n",
    "import gc\n",
    "from sklearn.model_selection import StratifiedKFold\n",
    "from xgboost import XGBClassifier\n",
    "import xgboost as xgb\n",
    "from numba import jit\n",
    "from sklearn.metrics import matthews_corrcoef\n",
    "from sklearn.metrics import roc_auc_score\n",
    "from scipy.stats import spearmanr\n",
    "import numba\n",
    "from scipy.sparse import csr_matrix\n",
    "import pickle\n",
    "from bayes_opt import BayesianOptimization\n",
    "from functools import partial"
   ]
  },
  {
   "cell_type": "markdown",
   "metadata": {},
   "source": [
    "Let's have a look at the contents of the zipped files:"
   ]
  },
  {
   "cell_type": "code",
   "execution_count": 2,
   "metadata": {
    "tags": []
   },
   "outputs": [
    {
     "name": "stdout",
     "output_type": "stream",
     "text": [
      "Path:\t./data\\sample_submission.csv.zip\n",
      "Name:\t ['sample_submission.csv']\n",
      "Size:\t 11.281556 MB\n",
      "Rows:\t 1183748\n",
      "% Mis:\t 0.0\n",
      "Path:\t./data\\test_categorical.csv.zip\n",
      "Name:\t ['test_categorical.csv']\n",
      "Size:\t 2678.272381 MB\n",
      "Rows:\t 1183748\n",
      "% Mis:\t 80.126\n",
      "Path:\t./data\\test_date.csv.zip\n",
      "Name:\t ['test_date.csv']\n",
      "Size:\t 2893.227216 MB\n",
      "Rows:\t 1183748\n",
      "% Mis:\t 65.802\n",
      "Path:\t./data\\test_numeric.csv.zip\n",
      "Name:\t ['test_numeric.csv']\n",
      "Size:\t 2137.286201 MB\n",
      "Rows:\t 1183748\n",
      "% Mis:\t 65.635\n",
      "Path:\t./data\\train_categorical.csv.zip\n",
      "Name:\t ['train_categorical.csv']\n",
      "Size:\t 2678.343036 MB\n",
      "Rows:\t 1183747\n",
      "% Mis:\t 81.784\n",
      "Path:\t./data\\train_date.csv.zip\n",
      "Name:\t ['train_date.csv']\n",
      "Size:\t 2893.367134 MB\n",
      "Rows:\t 1183747\n",
      "% Mis:\t 68.655\n",
      "Path:\t./data\\train_numeric.csv.zip\n",
      "Name:\t ['train_numeric.csv']\n",
      "Size:\t 2139.901506 MB\n",
      "Rows:\t 1183747\n",
      "% Mis:\t 67.285\n"
     ]
    }
   ],
   "source": [
    "\n",
    "for dirname, _, filenames in os.walk('./data'):\n",
    "    \n",
    "    for filename in filenames:\n",
    "        \n",
    "        pth    = os.path.join(dirname, filename)\n",
    "        zf     = zipfile.ZipFile(pth)\n",
    "        size   = sum([zinfo.file_size for zinfo in zf.filelist])\n",
    "        zip_mb = float(size) / 1000 ** 2  # MB\n",
    "        \n",
    "        fields_all = 0\n",
    "        fields_mis = 0\n",
    "\n",
    "        for file in zf.filelist:\n",
    "            with zf.open(file, 'r') as f:\n",
    "                for zip_line_idx, zip_line in enumerate(f):\n",
    "                    if zip_line_idx <= 5: # Parse the first lines to check for missing values\n",
    "                        line = zip_line.decode(\"utf-8\").split(',')           # Convert to string and split elements\n",
    "                        fields_mis += np.sum([field == '' for field in line]) # Get no. fields missing\n",
    "                        fields_all += len(line)                               # Get total no. fields\n",
    "        \n",
    "        # Print info\n",
    "        print(f'Path:\\t{pth}')\n",
    "        print(f'Name:\\t {zf.namelist()}')\n",
    "        print(f'Size:\\t {zip_mb} MB')\n",
    "        print(f'Rows:\\t {zip_line_idx}')\n",
    "        print(f'% Mis:\\t {round(fields_mis / fields_all * 100, 3)}')"
   ]
  },
  {
   "cell_type": "markdown",
   "metadata": {},
   "source": [
    "So, we have 1183747 rows for train and 1183748 for test, and the train / test files seem to be aligned in terms of rows.\n",
    "Moveover, by scanning through the first 50k lines on each file, it is clear that the dataset is sparse.\n",
    "train and test date files: 82% missing\n",
    "train and test numerical files: 81% missing\n",
    "train and test categorical files: 97% missing.\n",
    "\n",
    "We should probably move to a sparse storage / loading format."
   ]
  },
  {
   "cell_type": "markdown",
   "metadata": {},
   "source": [
    "# Headers"
   ]
  },
  {
   "cell_type": "code",
   "execution_count": 3,
   "metadata": {
    "tags": []
   },
   "outputs": [
    {
     "name": "stdout",
     "output_type": "stream",
     "text": [
      "Duplicate columns: ['Id']\n",
      "All columns: 4266\n"
     ]
    }
   ],
   "source": [
    "datadir = './data/'\n",
    "\n",
    "date_header = pd.read_csv(datadir + 'train_date.csv.zip', nrows = 1).columns.to_list()\n",
    "num_header  = pd.read_csv(datadir + 'train_numeric.csv.zip', nrows = 1).columns.to_list()\n",
    "cat_header  = pd.read_csv(datadir + 'train_categorical.csv.zip', nrows = 1).columns.to_list()\n",
    "all_header  = date_header + num_header + cat_header\n",
    "print('Duplicate columns:', [item for item, count in Counter(all_header).items() if count > 1])\n",
    "print('All columns:', len(set(all_header)))\n"
   ]
  },
  {
   "cell_type": "markdown",
   "metadata": {},
   "source": [
    "So in total we have approximately 1.1 mln rows, 4000 features...\n",
    "\n",
    "ID should be treated as our index. \n",
    "\n",
    "Let's see how many stations, lines and features we have:"
   ]
  },
  {
   "cell_type": "code",
   "execution_count": 4,
   "metadata": {
    "tags": []
   },
   "outputs": [
    {
     "data": {
      "image/png": "[encoded data removed]",
      "text/plain": [
       "<Figure size 1080x216 with 1 Axes>"
      ]
     },
     "metadata": {
      "needs_background": "light"
     },
     "output_type": "display_data"
    },
    {
     "data": {
      "image/png": "[encoded data removed]",
      "text/plain": [
       "<Figure size 1080x216 with 1 Axes>"
      ]
     },
     "metadata": {
      "needs_background": "light"
     },
     "output_type": "display_data"
    },
    {
     "data": {
      "image/png": "[encoded data removed]",
      "text/plain": [
       "<Figure size 1080x216 with 1 Axes>"
      ]
     },
     "metadata": {
      "needs_background": "light"
     },
     "output_type": "display_data"
    },
    {
     "data": {
      "image/png": "[encoded data removed]",
      "text/plain": [
       "<Figure size 1080x216 with 1 Axes>"
      ]
     },
     "metadata": {
      "needs_background": "light"
     },
     "output_type": "display_data"
    }
   ],
   "source": [
    "def extract_line(colname):    return colname.split('_')[0]\n",
    "def extract_station(colname): return colname.split('_')[1]\n",
    "def extract_feature(colname): return colname.split('_')[2]\n",
    "\n",
    "feat_headers = [header for header in num_header + cat_header if header != 'Id' and header != 'Response']\n",
    "\n",
    "feat_counter = []\n",
    "\n",
    "lines = set([extract_line(header) for header in feat_headers])\n",
    "for line in lines:\n",
    "    stations = set([extract_station(header) for header in feat_headers if extract_line(header) == line])\n",
    "    for station in stations:\n",
    "        feats = [extract_feature(header) for header in feat_headers if extract_line(header) == line and extract_station(header) == station]\n",
    "        feat_counter.append((line, station, len(feats)))\n",
    "        \n",
    "f = pd.DataFrame(feat_counter, columns=['line', 'station', 'no_feats'])\n",
    "for line, group in f.groupby('line'):\n",
    "    \n",
    "    total_feats = sum(group['no_feats'])\n",
    "    group.plot(kind = 'bar', x = 'station', y = 'no_feats', figsize = (15, 3), title = f'Line {line}: Total features {total_feats}')"
   ]
  },
  {
   "cell_type": "markdown",
   "metadata": {},
   "source": [
    "It might be a good idea to have a look at the data per Line. In the case of Line L1 (with 1740 features), we could go a level deeper and check on a per-station level.\n",
    "\n",
    "We need a function to load an entire csv without running out of memory (sparse dataframe)"
   ]
  },
  {
   "cell_type": "code",
   "execution_count": 109,
   "metadata": {
    "tags": []
   },
   "outputs": [],
   "source": [
    "# Function to load a dataframe from an input file\n",
    "def load_df(input_file, d_type, fill_value, chunksize):\n",
    "    \n",
    "    no_rows = 1183747 # This corresponds to the training set. The test set has one additional element\n",
    "    reader = pd.read_csv(input_file, chunksize = chunksize, engine = 'c', compression = 'zip', index_col = 'Id', dtype = d_type)\n",
    "\n",
    "    dfs = []\n",
    "\n",
    "    for df_chunk in tqdm(reader, total = no_rows // chunksize + 1):\n",
    "        dfs.append(df_chunk.astype(pd.SparseDtype(d_type, fill_value = fill_value)))\n",
    "\n",
    "    df = pd.concat(dfs, axis = 0)\n",
    "    \n",
    "    df.index = df.index.astype(int)\n",
    "\n",
    "    return df"
   ]
  },
  {
   "cell_type": "code",
   "execution_count": 110,
   "metadata": {
    "tags": []
   },
   "outputs": [
    {
     "data": {
      "application/vnd.jupyter.widget-view+json": {
       "model_id": "5cf7c352f4db40bb9d973e70247f35d8",
       "version_major": 2,
       "version_minor": 0
      },
      "text/plain": [
       "  0%|          | 0/6 [00:00<?, ?it/s]"
      ]
     },
     "metadata": {},
     "output_type": "display_data"
    }
   ],
   "source": [
    "df_num = load_df(input_file = datadir + 'train_numeric.csv.zip', d_type = np.float64, fill_value = np.nan, chunksize = 200000)\n",
    "y      = df_num['Response'].values\n",
    "df_num.drop('Response', axis = 1, inplace = True)"
   ]
  },
  {
   "cell_type": "markdown",
   "metadata": {},
   "source": [
    "## Response"
   ]
  },
  {
   "cell_type": "code",
   "execution_count": 7,
   "metadata": {
    "tags": []
   },
   "outputs": [
    {
     "name": "stdout",
     "output_type": "stream",
     "text": [
      "No. positive: 6879\n",
      "No. negative: 1176868\n",
      "Ratio [%]: 0.5845175499716195\n"
     ]
    }
   ],
   "source": [
    "print(f\"No. positive: {np.sum(y == 1)}\")\n",
    "print(f\"No. negative: {np.sum(y == 0)}\")\n",
    "print(f\"Ratio [%]: {np.sum(y == 1) / np.sum(y == 0)*100}\")"
   ]
  },
  {
   "cell_type": "markdown",
   "metadata": {},
   "source": [
    "Highly imbalanced"
   ]
  },
  {
   "cell_type": "markdown",
   "metadata": {
    "execution": {
     "iopub.execute_input": "2021-07-27T17:33:06.952029Z",
     "iopub.status.busy": "2021-07-27T17:33:06.951631Z",
     "iopub.status.idle": "2021-07-27T17:34:54.352138Z",
     "shell.execute_reply": "2021-07-27T17:34:54.348528Z",
     "shell.execute_reply.started": "2021-07-27T17:33:06.951995Z"
    }
   },
   "source": [
    "## Make KFold sets and holdout set\n"
   ]
  },
  {
   "cell_type": "code",
   "execution_count": 8,
   "metadata": {
    "tags": []
   },
   "outputs": [],
   "source": [
    "# Train/test split of sklearn takes quite a bit of time\n",
    "# The following is faster to get a stratified train/test split\n",
    "def train_test_split(y, test_ratio):\n",
    "    \n",
    "    # Grab indices of positive and negative responses\n",
    "    pos_idx = np.where(y == 1)[0]\n",
    "    neg_idx = np.where(y == 0)[0]\n",
    "\n",
    "    # Shuffle them\n",
    "    np.random.seed(220)\n",
    "    pos_idx = np.random.permutation(pos_idx)\n",
    "\n",
    "    np.random.seed(220)\n",
    "    neg_idx = np.random.permutation(neg_idx)\n",
    "\n",
    "    # Split on train and test sets\n",
    "    pos_samples = pos_idx.shape[0]\n",
    "    neg_samples = neg_idx.shape[0]\n",
    "\n",
    "    # Grab indices for the holdout set\n",
    "    pos_idx_hold = pos_idx[:np.floor(pos_samples * test_ratio).astype(int)]\n",
    "    neg_idx_hold = neg_idx[:np.floor(neg_samples * test_ratio).astype(int)]\n",
    "\n",
    "    # Grab indices for the training set\n",
    "    pos_idx_train = np.setdiff1d(pos_idx, pos_idx_hold)\n",
    "    neg_idx_train = np.setdiff1d(neg_idx, neg_idx_hold)\n",
    "\n",
    "    # Merge them\n",
    "    idx_hold  = np.hstack([pos_idx_hold, neg_idx_hold])\n",
    "    idx_train = np.hstack([pos_idx_train, neg_idx_train])\n",
    "    \n",
    "    # Shuffle once more\n",
    "    np.random.seed(220)\n",
    "    idx_hold = np.random.permutation(idx_hold)\n",
    "    np.random.seed(220)\n",
    "    idx_train = np.random.permutation(idx_train)\n",
    "    \n",
    "    return idx_train, idx_hold"
   ]
  },
  {
   "cell_type": "code",
   "execution_count": 9,
   "metadata": {
    "tags": []
   },
   "outputs": [],
   "source": [
    "# Holdout set\n",
    "holdout_ratio = 0.1 # Ratio of total for holdout set\n",
    "no_CV_folds   = 5   # Stratified kfold splits\n",
    "\n",
    "idx_trainval, idx_hold = train_test_split(y, test_ratio = 0.1)\n",
    "skf = StratifiedKFold(n_splits = no_CV_folds, random_state = 300, shuffle = True)"
   ]
  },
  {
   "cell_type": "code",
   "execution_count": 10,
   "metadata": {
    "tags": []
   },
   "outputs": [],
   "source": [
    "# Make holdout set target\n",
    "y_holdout   = y[idx_hold]\n",
    "\n",
    "# Make training / validation set target\n",
    "y_train   = y[idx_trainval]"
   ]
  },
  {
   "cell_type": "markdown",
   "metadata": {},
   "source": [
    "## Numerical Features\n",
    "### Missing Values"
   ]
  },
  {
   "cell_type": "code",
   "execution_count": null,
   "metadata": {},
   "outputs": [],
   "source": [
    "# Split train / holdout set\n",
    "holdout_num = df_num.iloc[idx_hold]\n",
    "train_num   = df_num.iloc[idx_trainval]"
   ]
  },
  {
   "cell_type": "code",
   "execution_count": 11,
   "metadata": {
    "tags": []
   },
   "outputs": [
    {
     "data": {
      "image/png": "[encoded data removed]",
      "text/plain": [
       "<Figure size 1080x288 with 1 Axes>"
      ]
     },
     "metadata": {
      "needs_background": "light"
     },
     "output_type": "display_data"
    }
   ],
   "source": [
    "no_samples = train_num.shape[0]\n",
    "\n",
    "(train_num.isna().sum()/no_samples * 100).plot(kind = 'bar', xticks = [], figsize = (15, 4), \n",
    "                                               title = '% Missing - Numerical',\n",
    "                                               xlabel = 'Numerical Feature',\n",
    "                                               ylabel = '% Missing');"
   ]
  },
  {
   "cell_type": "markdown",
   "metadata": {},
   "source": [
    "Quite a lot of variables are missing most of their values. Experimentation with various imputation methods is useless."
   ]
  },
  {
   "cell_type": "markdown",
   "metadata": {},
   "source": [
    "### Numerical Feature Importance\n",
    "\n",
    "We need a quick way to sort through the numerical features and find the most useful ones. We'll do this with xgboost, by fitting a model on 30% of the training set on the first fold:"
   ]
  },
  {
   "cell_type": "code",
   "execution_count": 12,
   "metadata": {},
   "outputs": [
    {
     "name": "stderr",
     "output_type": "stream",
     "text": [
      "C:\\Users\\kalika01\\Anaconda\\envs\\pytorch_gpu\\lib\\site-packages\\ipykernel_launcher.py:1: PerformanceWarning: DataFrame is highly fragmented.  This is usually the result of calling `frame.insert` many times, which has poor performance.  Consider joining all columns at once using pd.concat(axis=1) instead.  To get a de-fragmented frame, use `newframe = frame.copy()`\n",
      "  \"\"\"Entry point for launching an IPython kernel.\n"
     ]
    },
    {
     "name": "stdout",
     "output_type": "stream",
     "text": [
      "[0]\tvalidation_0-logloss:0.68676\tvalidation_1-logloss:0.68687\n",
      "[1]\tvalidation_0-logloss:0.67690\tvalidation_1-logloss:0.67698\n",
      "[2]\tvalidation_0-logloss:0.66744\tvalidation_1-logloss:0.66782\n",
      "[3]\tvalidation_0-logloss:0.65936\tvalidation_1-logloss:0.65977\n",
      "[4]\tvalidation_0-logloss:0.64891\tvalidation_1-logloss:0.64960\n",
      "[5]\tvalidation_0-logloss:0.63440\tvalidation_1-logloss:0.63546\n",
      "[6]\tvalidation_0-logloss:0.62913\tvalidation_1-logloss:0.63040\n",
      "[7]\tvalidation_0-logloss:0.61979\tvalidation_1-logloss:0.62119\n",
      "[8]\tvalidation_0-logloss:0.61614\tvalidation_1-logloss:0.61778\n",
      "[9]\tvalidation_0-logloss:0.61179\tvalidation_1-logloss:0.61356\n",
      "[10]\tvalidation_0-logloss:0.60446\tvalidation_1-logloss:0.60642\n",
      "[11]\tvalidation_0-logloss:0.59871\tvalidation_1-logloss:0.60077\n",
      "[12]\tvalidation_0-logloss:0.59487\tvalidation_1-logloss:0.59701\n",
      "[13]\tvalidation_0-logloss:0.58668\tvalidation_1-logloss:0.58914\n",
      "[14]\tvalidation_0-logloss:0.58275\tvalidation_1-logloss:0.58520\n",
      "[15]\tvalidation_0-logloss:0.58065\tvalidation_1-logloss:0.58305\n",
      "[16]\tvalidation_0-logloss:0.57742\tvalidation_1-logloss:0.57984\n",
      "[17]\tvalidation_0-logloss:0.57523\tvalidation_1-logloss:0.57772\n",
      "[18]\tvalidation_0-logloss:0.57275\tvalidation_1-logloss:0.57526\n",
      "[19]\tvalidation_0-logloss:0.56842\tvalidation_1-logloss:0.57098\n",
      "[20]\tvalidation_0-logloss:0.56509\tvalidation_1-logloss:0.56780\n",
      "[21]\tvalidation_0-logloss:0.56346\tvalidation_1-logloss:0.56614\n",
      "[22]\tvalidation_0-logloss:0.55953\tvalidation_1-logloss:0.56225\n",
      "[23]\tvalidation_0-logloss:0.55768\tvalidation_1-logloss:0.56037\n",
      "[24]\tvalidation_0-logloss:0.55262\tvalidation_1-logloss:0.55544\n",
      "[25]\tvalidation_0-logloss:0.55117\tvalidation_1-logloss:0.55405\n",
      "[26]\tvalidation_0-logloss:0.54947\tvalidation_1-logloss:0.55225\n",
      "[27]\tvalidation_0-logloss:0.54761\tvalidation_1-logloss:0.55026\n",
      "[28]\tvalidation_0-logloss:0.53943\tvalidation_1-logloss:0.54239\n",
      "[29]\tvalidation_0-logloss:0.53164\tvalidation_1-logloss:0.53495\n",
      "[30]\tvalidation_0-logloss:0.52688\tvalidation_1-logloss:0.53040\n",
      "[31]\tvalidation_0-logloss:0.52450\tvalidation_1-logloss:0.52812\n",
      "[32]\tvalidation_0-logloss:0.52013\tvalidation_1-logloss:0.52382\n",
      "[33]\tvalidation_0-logloss:0.51675\tvalidation_1-logloss:0.52057\n",
      "[34]\tvalidation_0-logloss:0.51573\tvalidation_1-logloss:0.51967\n",
      "[35]\tvalidation_0-logloss:0.50930\tvalidation_1-logloss:0.51359\n",
      "[36]\tvalidation_0-logloss:0.50238\tvalidation_1-logloss:0.50705\n",
      "[37]\tvalidation_0-logloss:0.49844\tvalidation_1-logloss:0.50311\n",
      "[38]\tvalidation_0-logloss:0.49361\tvalidation_1-logloss:0.49834\n",
      "[39]\tvalidation_0-logloss:0.49226\tvalidation_1-logloss:0.49695\n",
      "[40]\tvalidation_0-logloss:0.49039\tvalidation_1-logloss:0.49517\n",
      "[41]\tvalidation_0-logloss:0.48507\tvalidation_1-logloss:0.49002\n",
      "[42]\tvalidation_0-logloss:0.48246\tvalidation_1-logloss:0.48746\n",
      "[43]\tvalidation_0-logloss:0.47789\tvalidation_1-logloss:0.48303\n",
      "[44]\tvalidation_0-logloss:0.47599\tvalidation_1-logloss:0.48111\n",
      "[45]\tvalidation_0-logloss:0.47422\tvalidation_1-logloss:0.47938\n",
      "[46]\tvalidation_0-logloss:0.46945\tvalidation_1-logloss:0.47466\n",
      "[47]\tvalidation_0-logloss:0.46167\tvalidation_1-logloss:0.46711\n",
      "[48]\tvalidation_0-logloss:0.45269\tvalidation_1-logloss:0.45824\n",
      "[49]\tvalidation_0-logloss:0.44634\tvalidation_1-logloss:0.45227\n"
     ]
    },
    {
     "name": "stderr",
     "output_type": "stream",
     "text": [
      "C:\\Users\\kalika01\\Anaconda\\envs\\pytorch_gpu\\lib\\site-packages\\xgboost\\data.py:114: UserWarning: Use subset (sliced data) of np.ndarray is not recommended because it will generate extra copies and increase memory consumption\n",
      "  \"because it will generate extra copies and increase \" +\n"
     ]
    },
    {
     "name": "stdout",
     "output_type": "stream",
     "text": [
      "Validation Set ROC-AUC:  0.6133061067065692\n"
     ]
    }
   ],
   "source": [
    "X = train_num.reset_index() # Use ID as well\n",
    "\n",
    "# Grab first fold\n",
    "for trainval_idx, test_idx in skf.split(X, y_train): break\n",
    "\n",
    "# Subsample the training set and validation sets of the first fold\n",
    "train_idx, val_idx = train_test_split(y_train[trainval_idx], test_ratio = 0.7)\n",
    "val_idx,_          = train_test_split(y_train[val_idx], test_ratio = 0.7)\n",
    "\n",
    "# Make training and validation datasets\n",
    "X_train, X_val  = X.iloc[train_idx].values, X.iloc[val_idx].values\n",
    "y_train_        = y[train_idx].to_dense().astype(int)\n",
    "y_val_          = y[val_idx].to_dense().astype(int)\n",
    "    \n",
    "# Fit model\n",
    "sum_neg, sum_pos = np.sum(y_train_ == 0), np.sum(y_train_ == 1)\n",
    "xgb = XGBClassifier(n_estimators = 50, use_label_encoder = False, scale_pos_weight = sum_neg / sum_pos)\n",
    "xgb.fit(X_train, y_train_, \n",
    "        eval_set    = [(X_train, y_train_), (X_val, y_val_)],\n",
    "        eval_metric = 'logloss', \n",
    "        verbose     = True)\n",
    "\n",
    "# Evaluate performance\n",
    "y_pred = [round(value) for value in xgb.predict(X_val)]\n",
    "print('Validation Set ROC-AUC: ', roc_auc_score(y_val_, y_pred))    \n",
    "\n",
    "# Compute feature importance\n",
    "xgb_imp = pd.DataFrame({'feature' : X.columns, 'importance': xgb.feature_importances_})\n",
    "xgb_imp.to_csv('./xgb_imp.csv')"
   ]
  },
  {
   "cell_type": "code",
   "execution_count": 13,
   "metadata": {
    "tags": []
   },
   "outputs": [
    {
     "data": {
      "image/png": "[encoded data removed]",
      "text/plain": [
       "<Figure size 1080x360 with 1 Axes>"
      ]
     },
     "metadata": {
      "needs_background": "light"
     },
     "output_type": "display_data"
    }
   ],
   "source": [
    "# Plot feature importance and export\n",
    "file_path = './xgb_imp.csv'\n",
    "xgb_imp = pd.read_csv(file_path, index_col = 0)\n",
    "xgb_imp.sort_values(by = 'importance', ascending = False, inplace = True)\n",
    "\n",
    "fig = plt.figure(figsize = (15, 5))\n",
    "plt.bar(np.arange(xgb_imp.shape[0]), xgb_imp['importance'])\n",
    "plt.hlines(xgb_imp['importance'].max() * 0.3, xmin = 0, xmax = xgb_imp.shape[0], color = 'red')\n",
    "plt.title('XGBoost Numerical Feature Importance');\n",
    "plt.ylabel('Importance');\n",
    "plt.xlabel('Feature #');\n",
    "plt.ylim([0, xgb_imp['importance'].max()]);\n",
    "plt.legend(['Threshold', 'Feature Importance']);"
   ]
  },
  {
   "cell_type": "markdown",
   "metadata": {
    "execution": {
     "iopub.execute_input": "2021-08-13T08:56:16.989906Z",
     "iopub.status.busy": "2021-08-13T08:56:16.989557Z",
     "iopub.status.idle": "2021-08-13T08:56:16.995757Z",
     "shell.execute_reply": "2021-08-13T08:56:16.994497Z",
     "shell.execute_reply.started": "2021-08-13T08:56:16.989878Z"
    }
   },
   "source": [
    "Bottom line, we can throw away 2/3 of the numerical features directly, but we could reduce even more by dropping everything below a threshold (0.3 of the max value for instance above)"
   ]
  },
  {
   "cell_type": "code",
   "execution_count": 14,
   "metadata": {
    "tags": []
   },
   "outputs": [],
   "source": [
    "num_feats_to_keep = xgb_imp[xgb_imp['importance'] >= 0.3 * xgb_imp['importance'].max()]"
   ]
  },
  {
   "cell_type": "markdown",
   "metadata": {},
   "source": [
    "### Retained Numerical Features - EDA"
   ]
  },
  {
   "cell_type": "code",
   "execution_count": 15,
   "metadata": {
    "tags": []
   },
   "outputs": [],
   "source": [
    "# Keep only the features identified above\n",
    "train_num = train_num[num_feats_to_keep['feature']]"
   ]
  },
  {
   "cell_type": "code",
   "execution_count": 16,
   "metadata": {
    "tags": []
   },
   "outputs": [
    {
     "name": "stdout",
     "output_type": "stream",
     "text": [
      "Line L0: 63 features\n",
      "Line L1: 38 features\n",
      "Line L2: 13 features\n",
      "Line L3: 56 features\n"
     ]
    }
   ],
   "source": [
    "for line in ['L0', 'L1', 'L2', 'L3']:\n",
    "    line_feats = np.sum([line in col for col in train_num.columns])\n",
    "    print(f\"Line {line}: {line_feats} features\")"
   ]
  },
  {
   "cell_type": "code",
   "execution_count": 17,
   "metadata": {
    "tags": []
   },
   "outputs": [
    {
     "data": {
      "image/png": "[encoded data removed]",
      "text/plain": [
       "<Figure size 1080x288 with 1 Axes>"
      ]
     },
     "metadata": {
      "needs_background": "light"
     },
     "output_type": "display_data"
    }
   ],
   "source": [
    "stations = list(set([col.split('_')[1] for col in train_num.columns if 'S' in col ]))\n",
    "\n",
    "station_feats = []\n",
    "for station in stations:\n",
    "    station_feats.append(np.sum([station == col.split('_')[1] for col in train_num.columns]))\n",
    "    \n",
    "plt.figure(figsize = (15, 4))\n",
    "plt.bar(stations, station_feats);\n",
    "plt.title(f\"{len(stations)} Stations in the {len(train_num.columns)} numerical Features\");\n",
    "plt.xlabel('Station');\n",
    "plt.ylabel('# Features');\n",
    "plt.xticks(rotation = 90);\n"
   ]
  },
  {
   "cell_type": "markdown",
   "metadata": {},
   "source": [
    "We have all 4 lines represented in the subset of numerical features, and around 15 stations. \n",
    "### Missing values\n",
    "Let's have a closer look at missing values"
   ]
  },
  {
   "cell_type": "code",
   "execution_count": 18,
   "metadata": {
    "tags": []
   },
   "outputs": [
    {
     "data": {
      "image/png": "[encoded data removed]",
      "text/plain": [
       "<Figure size 1440x288 with 1 Axes>"
      ]
     },
     "metadata": {
      "needs_background": "light"
     },
     "output_type": "display_data"
    }
   ],
   "source": [
    "no_samples = train_num.shape[0]\n",
    "\n",
    "(train_num.isna().sum()/no_samples * 100).plot(kind = 'bar', xticks = [], figsize = (20, 4), \n",
    "                                               title = '% Missing - Numerical',\n",
    "                                               xlabel = 'Numerical Feature',\n",
    "                                               ylabel = '% Missing');"
   ]
  },
  {
   "cell_type": "markdown",
   "metadata": {},
   "source": [
    "There are still features with very high number of missing values. The pattern of missing values possibly holds some valuable information.\n",
    "\n",
    "Let's have a look at the missing data patterns between the different numerical features"
   ]
  },
  {
   "cell_type": "code",
   "execution_count": 19,
   "metadata": {
    "tags": []
   },
   "outputs": [],
   "source": [
    "def get_redundant_pairs(df):\n",
    "    '''Get diagonal and lower triangular pairs of correlation matrix'''\n",
    "    \n",
    "    pairs_to_drop = set()\n",
    "    cols          = df.columns\n",
    "    \n",
    "    for i in range(0, df.shape[1]):\n",
    "        for j in range(0, i + 1):\n",
    "            pairs_to_drop.add((cols[i], cols[j]))\n",
    "    \n",
    "    return pairs_to_drop\n",
    "\n",
    "def get_correlations(df):\n",
    "    \n",
    "    au_corr = df.corr().unstack()\n",
    "    to_drop = get_redundant_pairs(df)\n",
    "    au_corr = au_corr.drop(labels = to_drop).sort_values(ascending = False).reset_index()\n",
    "    au_corr.columns = ['feat1', 'feat2', 'corr']\n",
    "    \n",
    "    return au_corr"
   ]
  },
  {
   "cell_type": "code",
   "execution_count": 20,
   "metadata": {
    "tags": []
   },
   "outputs": [
    {
     "data": {
      "image/png": "[encoded data removed]",
      "text/plain": [
       "<Figure size 1296x288 with 3 Axes>"
      ]
     },
     "metadata": {
      "needs_background": "light"
     },
     "output_type": "display_data"
    },
    {
     "data": {
      "image/png": "[encoded data removed]",
      "text/plain": [
       "<Figure size 1296x288 with 1 Axes>"
      ]
     },
     "metadata": {
      "needs_background": "light"
     },
     "output_type": "display_data"
    }
   ],
   "source": [
    "# Make binary matrices indicating nans\n",
    "num_nan     = train_num.isnull()\n",
    "\n",
    "# Compute Pearson correlation for all, and positive / negative response separately\n",
    "\n",
    "nan_pos_corr = get_correlations(num_nan[y_train == 1])\n",
    "nan_neg_corr = get_correlations(num_nan[y_train == 0])\n",
    "nan_corr     = get_correlations(num_nan)\n",
    "\n",
    "# Save in case we nee them\n",
    "nan_pos_corr.to_csv('./nan_pos_corr.csv')\n",
    "nan_neg_corr.to_csv('./nan_neg_corr.csv')\n",
    "nan_corr.to_csv('./nan_corr.csv')\n",
    "\n",
    "nan_corr = pd.concat([nan_corr.set_index(['feat1', 'feat2']), \n",
    "                      nan_pos_corr.set_index(['feat1', 'feat2']), \n",
    "                      nan_neg_corr.set_index(['feat1', 'feat2'])], \n",
    "                     axis = 1)\n",
    "\n",
    "nan_corr.columns = ['corr_all', 'corr_pos', 'corr_neg']\n",
    "\n",
    "# Plot\n",
    "fig, (ax1, ax2, ax3) = plt.subplots(nrows = 1, ncols = 3, figsize = (18, 4))\n",
    "ax1.hist(nan_corr['corr_all']);\n",
    "ax1.set_xlabel('Pearson Correlation Coefficient')\n",
    "ax1.set_ylabel('# Occurences')\n",
    "ax1.set_title('Missing Values - Pearson Correlation');\n",
    "\n",
    "ax2.hist(nan_corr['corr_pos']);\n",
    "ax2.set_xlabel('Pearson Correlation Coefficient')\n",
    "ax2.set_ylabel('# Occurences')\n",
    "ax2.set_title('Missing Values - Pearson Correlation (y = 1)');\n",
    "\n",
    "ax3.hist(nan_corr['corr_neg']);\n",
    "ax3.set_xlabel('Pearson Correlation Coefficient')\n",
    "ax3.set_ylabel('# Occurences')\n",
    "ax3.set_title('Missing Values - Pearson Correlation (y = 0)');\n",
    "\n",
    "plt.figure(figsize = (18, 4))\n",
    "plt.hist(np.abs(nan_corr['corr_pos'] - nan_corr['corr_neg']), bins = 50);\n",
    "plt.xlabel('Pearson Correlation on missing values: Positive & Negative Response Diff.')\n",
    "plt.ylabel('# Occurences')\n",
    "plt.title('Missing Values - Pearson Correlation');\n"
   ]
  },
  {
   "cell_type": "markdown",
   "metadata": {},
   "source": [
    "There are a few variable pairs which seem to be missing together most of the time (Pearson coefficient equal to 1), and variable pairs which miss alternately (Pearson coefficient equal to -1). Furthermore, there are a few variable pairs for which the Pearson coefficients are very different for the two different responses.\n",
    "Missing data patterns are very important here. We could add new features, but XGBoost can handle this logic internally.\n",
    "\n",
    "Considering features with similar missing data patterns (Pearson correlation higher than 0.95), we can also check if their values are correlated:"
   ]
  },
  {
   "cell_type": "code",
   "execution_count": 21,
   "metadata": {
    "tags": []
   },
   "outputs": [
    {
     "data": {
      "application/vnd.jupyter.widget-view+json": {
       "model_id": "ac3b5483f64b4ba4b1e40ce976c1ce23",
       "version_major": 2,
       "version_minor": 0
      },
      "text/plain": [
       "  0%|          | 0/643 [00:00<?, ?it/s]"
      ]
     },
     "metadata": {},
     "output_type": "display_data"
    }
   ],
   "source": [
    "\n",
    "# Grab feature pairs with highly correlated missing values (>= 0.95 Pearson correlation)\n",
    "feats_mis_2 = nan_corr[nan_corr['corr_all'] >= 0.95].reset_index()[['feat1', 'feat2']].values\n",
    "\n",
    "# Empty array to hold results for Spearman rank coefficient\n",
    "spearman_vals = np.empty((feats_mis_2.shape[0], 1))\n",
    "idx = 0\n",
    "\n",
    "# Loop through all the features\n",
    "for [feat1, feat2] in tqdm(feats_mis_2):\n",
    "    \n",
    "    # Grab the two features from the dataframe\n",
    "    tmp = train_num[[feat1, feat2]].copy().dropna(axis = 0, how = 'any').values\n",
    "    \n",
    "    # Compute Spearman rank coefficient\n",
    "    spearman_vals[idx], _ = spearmanr(tmp[:, 0], tmp[:, 1])\n",
    "    \n",
    "    # Increment\n",
    "    idx += 1\n",
    "\n",
    "corr_val = pd.DataFrame(np.append(feats_mis_2, spearman_vals, 1), columns = ['feat1', 'feat2', 'corr'])\n",
    "\n",
    "# Save for later\n",
    "corr_val.to_csv('./corr_val.csv')\n"
   ]
  },
  {
   "cell_type": "markdown",
   "metadata": {},
   "source": [
    "Let's remove any highly correlated features:"
   ]
  },
  {
   "cell_type": "code",
   "execution_count": 22,
   "metadata": {
    "tags": []
   },
   "outputs": [],
   "source": [
    "corr_val = pd.read_csv('./corr_val.csv', index_col = 0)\n",
    "\n",
    "# Compute absolute correlations\n",
    "corr_val['abs_corr'] = corr_val['corr'].abs()\n",
    "\n",
    "# Grab the redundant features\n",
    "feats_to_remove = list(set(corr_val[corr_val['abs_corr'] >= 0.95]['feat2'].to_list()))\n",
    "\n",
    "# Remove them\n",
    "to_drop = [col for col in feats_to_remove if col in train_num.columns]\n",
    "train_num.drop(to_drop, axis = 1, inplace = True)\n",
    "holdout_num = holdout_num[train_num.columns]\n"
   ]
  },
  {
   "cell_type": "markdown",
   "metadata": {
    "execution": {
     "iopub.execute_input": "2021-08-11T10:13:42.884053Z",
     "iopub.status.busy": "2021-08-11T10:13:42.883501Z",
     "iopub.status.idle": "2021-08-11T10:13:42.889355Z",
     "shell.execute_reply": "2021-08-11T10:13:42.888697Z",
     "shell.execute_reply.started": "2021-08-11T10:13:42.884018Z"
    }
   },
   "source": [
    "We've reduced the numerical features from approximately 1000 to 263. Not bad\n",
    "### Duplicates\n",
    "\n",
    "Let's have a look if there are any duplicate rows in the numerical features. With over 1 million rows it wouldn't be surprising"
   ]
  },
  {
   "cell_type": "code",
   "execution_count": 23,
   "metadata": {
    "tags": []
   },
   "outputs": [
    {
     "name": "stdout",
     "output_type": "stream",
     "text": [
      "No Duplicate rows in numerical features: 30873\n"
     ]
    }
   ],
   "source": [
    "# Get indices of duplicate rows\n",
    "dup_ids = train_num.duplicated(keep = False)\n",
    "print(f'No Duplicate rows in numerical features: {np.sum(dup_ids) // 2}')"
   ]
  },
  {
   "cell_type": "markdown",
   "metadata": {},
   "source": [
    "Let's have a closer look at those. Perhaps removing them will make the class imbalance more severe:"
   ]
  },
  {
   "cell_type": "code",
   "execution_count": 24,
   "metadata": {
    "tags": []
   },
   "outputs": [
    {
     "name": "stderr",
     "output_type": "stream",
     "text": [
      "C:\\Users\\kalika01\\Anaconda\\envs\\pytorch_gpu\\lib\\site-packages\\IPython\\core\\interactiveshell.py:3361: PerformanceWarning: DataFrame is highly fragmented.  This is usually the result of calling `frame.insert` many times, which has poor performance.  Consider joining all columns at once using pd.concat(axis=1) instead.  To get a de-fragmented frame, use `newframe = frame.copy()`\n",
      "  if (await self.run_code(code, result,  async_=asy)):\n"
     ]
    },
    {
     "data": {
      "text/html": [
       "<div>\n",
       "<style scoped>\n",
       "    .dataframe tbody tr th:only-of-type {\n",
       "        vertical-align: middle;\n",
       "    }\n",
       "\n",
       "    .dataframe tbody tr th {\n",
       "        vertical-align: top;\n",
       "    }\n",
       "\n",
       "    .dataframe thead th {\n",
       "        text-align: right;\n",
       "    }\n",
       "</style>\n",
       "<table border=\"1\" class=\"dataframe\">\n",
       "  <thead>\n",
       "    <tr style=\"text-align: right;\">\n",
       "      <th></th>\n",
       "      <th>Response</th>\n",
       "      <th>L1_S24_F1713</th>\n",
       "      <th>L1_S25_F2016</th>\n",
       "      <th>L3_S30_F3589</th>\n",
       "      <th>L1_S24_F1609</th>\n",
       "      <th>L3_S29_F3433</th>\n",
       "      <th>L0_S12_F342</th>\n",
       "      <th>L3_S30_F3774</th>\n",
       "      <th>L1_S24_F1441</th>\n",
       "      <th>L3_S29_F3461</th>\n",
       "      <th>...</th>\n",
       "      <th>L0_S22_F586</th>\n",
       "      <th>L0_S2_F60</th>\n",
       "      <th>L3_S29_F3339</th>\n",
       "      <th>L3_S47_F4153</th>\n",
       "      <th>L3_S47_F4138</th>\n",
       "      <th>L0_S12_F350</th>\n",
       "      <th>L0_S12_F346</th>\n",
       "      <th>L0_S6_F132</th>\n",
       "      <th>L0_S11_F302</th>\n",
       "      <th>L0_S18_F439</th>\n",
       "    </tr>\n",
       "    <tr>\n",
       "      <th>Id</th>\n",
       "      <th></th>\n",
       "      <th></th>\n",
       "      <th></th>\n",
       "      <th></th>\n",
       "      <th></th>\n",
       "      <th></th>\n",
       "      <th></th>\n",
       "      <th></th>\n",
       "      <th></th>\n",
       "      <th></th>\n",
       "      <th></th>\n",
       "      <th></th>\n",
       "      <th></th>\n",
       "      <th></th>\n",
       "      <th></th>\n",
       "      <th></th>\n",
       "      <th></th>\n",
       "      <th></th>\n",
       "      <th></th>\n",
       "      <th></th>\n",
       "      <th></th>\n",
       "    </tr>\n",
       "  </thead>\n",
       "  <tbody>\n",
       "    <tr>\n",
       "      <th>1250</th>\n",
       "      <td>1.0</td>\n",
       "      <td>NaN</td>\n",
       "      <td>NaN</td>\n",
       "      <td>0.035</td>\n",
       "      <td>NaN</td>\n",
       "      <td>-0.076</td>\n",
       "      <td>NaN</td>\n",
       "      <td>-0.071</td>\n",
       "      <td>NaN</td>\n",
       "      <td>-0.040</td>\n",
       "      <td>...</td>\n",
       "      <td>NaN</td>\n",
       "      <td>NaN</td>\n",
       "      <td>0.002</td>\n",
       "      <td>NaN</td>\n",
       "      <td>NaN</td>\n",
       "      <td>NaN</td>\n",
       "      <td>NaN</td>\n",
       "      <td>NaN</td>\n",
       "      <td>-0.131</td>\n",
       "      <td>NaN</td>\n",
       "    </tr>\n",
       "    <tr>\n",
       "      <th>1793</th>\n",
       "      <td>1.0</td>\n",
       "      <td>NaN</td>\n",
       "      <td>NaN</td>\n",
       "      <td>-0.045</td>\n",
       "      <td>NaN</td>\n",
       "      <td>0.053</td>\n",
       "      <td>NaN</td>\n",
       "      <td>0.021</td>\n",
       "      <td>NaN</td>\n",
       "      <td>0.017</td>\n",
       "      <td>...</td>\n",
       "      <td>NaN</td>\n",
       "      <td>NaN</td>\n",
       "      <td>-0.012</td>\n",
       "      <td>NaN</td>\n",
       "      <td>NaN</td>\n",
       "      <td>NaN</td>\n",
       "      <td>NaN</td>\n",
       "      <td>-0.112</td>\n",
       "      <td>NaN</td>\n",
       "      <td>NaN</td>\n",
       "    </tr>\n",
       "    <tr>\n",
       "      <th>3585</th>\n",
       "      <td>1.0</td>\n",
       "      <td>NaN</td>\n",
       "      <td>NaN</td>\n",
       "      <td>NaN</td>\n",
       "      <td>NaN</td>\n",
       "      <td>0.065</td>\n",
       "      <td>NaN</td>\n",
       "      <td>0.091</td>\n",
       "      <td>NaN</td>\n",
       "      <td>0.417</td>\n",
       "      <td>...</td>\n",
       "      <td>NaN</td>\n",
       "      <td>NaN</td>\n",
       "      <td>0.256</td>\n",
       "      <td>NaN</td>\n",
       "      <td>NaN</td>\n",
       "      <td>NaN</td>\n",
       "      <td>NaN</td>\n",
       "      <td>NaN</td>\n",
       "      <td>NaN</td>\n",
       "      <td>NaN</td>\n",
       "    </tr>\n",
       "    <tr>\n",
       "      <th>4978</th>\n",
       "      <td>1.0</td>\n",
       "      <td>NaN</td>\n",
       "      <td>NaN</td>\n",
       "      <td>0.175</td>\n",
       "      <td>NaN</td>\n",
       "      <td>-0.076</td>\n",
       "      <td>NaN</td>\n",
       "      <td>-0.056</td>\n",
       "      <td>NaN</td>\n",
       "      <td>-0.040</td>\n",
       "      <td>...</td>\n",
       "      <td>NaN</td>\n",
       "      <td>NaN</td>\n",
       "      <td>0.079</td>\n",
       "      <td>NaN</td>\n",
       "      <td>NaN</td>\n",
       "      <td>NaN</td>\n",
       "      <td>NaN</td>\n",
       "      <td>NaN</td>\n",
       "      <td>NaN</td>\n",
       "      <td>NaN</td>\n",
       "    </tr>\n",
       "    <tr>\n",
       "      <th>5017</th>\n",
       "      <td>1.0</td>\n",
       "      <td>0.166</td>\n",
       "      <td>NaN</td>\n",
       "      <td>0.115</td>\n",
       "      <td>NaN</td>\n",
       "      <td>-0.002</td>\n",
       "      <td>NaN</td>\n",
       "      <td>-0.061</td>\n",
       "      <td>NaN</td>\n",
       "      <td>-0.040</td>\n",
       "      <td>...</td>\n",
       "      <td>NaN</td>\n",
       "      <td>NaN</td>\n",
       "      <td>0.027</td>\n",
       "      <td>NaN</td>\n",
       "      <td>NaN</td>\n",
       "      <td>NaN</td>\n",
       "      <td>NaN</td>\n",
       "      <td>NaN</td>\n",
       "      <td>NaN</td>\n",
       "      <td>NaN</td>\n",
       "    </tr>\n",
       "  </tbody>\n",
       "</table>\n",
       "<p>5 rows × 165 columns</p>\n",
       "</div>"
      ],
      "text/plain": [
       "      Response  L1_S24_F1713  L1_S25_F2016  L3_S30_F3589  L1_S24_F1609  \\\n",
       "Id                                                                       \n",
       "1250       1.0           NaN           NaN         0.035           NaN   \n",
       "1793       1.0           NaN           NaN        -0.045           NaN   \n",
       "3585       1.0           NaN           NaN           NaN           NaN   \n",
       "4978       1.0           NaN           NaN         0.175           NaN   \n",
       "5017       1.0         0.166           NaN         0.115           NaN   \n",
       "\n",
       "      L3_S29_F3433  L0_S12_F342  L3_S30_F3774  L1_S24_F1441  L3_S29_F3461  \\\n",
       "Id                                                                          \n",
       "1250        -0.076          NaN        -0.071           NaN        -0.040   \n",
       "1793         0.053          NaN         0.021           NaN         0.017   \n",
       "3585         0.065          NaN         0.091           NaN         0.417   \n",
       "4978        -0.076          NaN        -0.056           NaN        -0.040   \n",
       "5017        -0.002          NaN        -0.061           NaN        -0.040   \n",
       "\n",
       "      ...  L0_S22_F586  L0_S2_F60  L3_S29_F3339  L3_S47_F4153  L3_S47_F4138  \\\n",
       "Id    ...                                                                     \n",
       "1250  ...          NaN        NaN         0.002           NaN           NaN   \n",
       "1793  ...          NaN        NaN        -0.012           NaN           NaN   \n",
       "3585  ...          NaN        NaN         0.256           NaN           NaN   \n",
       "4978  ...          NaN        NaN         0.079           NaN           NaN   \n",
       "5017  ...          NaN        NaN         0.027           NaN           NaN   \n",
       "\n",
       "      L0_S12_F350  L0_S12_F346  L0_S6_F132  L0_S11_F302  L0_S18_F439  \n",
       "Id                                                                    \n",
       "1250          NaN          NaN         NaN       -0.131          NaN  \n",
       "1793          NaN          NaN      -0.112          NaN          NaN  \n",
       "3585          NaN          NaN         NaN          NaN          NaN  \n",
       "4978          NaN          NaN         NaN          NaN          NaN  \n",
       "5017          NaN          NaN         NaN          NaN          NaN  \n",
       "\n",
       "[5 rows x 165 columns]"
      ]
     },
     "execution_count": 24,
     "metadata": {},
     "output_type": "execute_result"
    }
   ],
   "source": [
    "num_dupes = train_num.loc[dup_ids.index[dup_ids == True]]\n",
    "num_dupes.insert(loc = 0, column = 'Response', value = y_train[dup_ids == True])\n",
    "num_dupes[num_dupes['Response'] == 1].sort_index().head()"
   ]
  },
  {
   "cell_type": "markdown",
   "metadata": {
    "execution": {
     "iopub.execute_input": "2021-08-13T09:09:57.303283Z",
     "iopub.status.busy": "2021-08-13T09:09:57.302869Z",
     "iopub.status.idle": "2021-08-13T09:09:57.309748Z",
     "shell.execute_reply": "2021-08-13T09:09:57.308336Z",
     "shell.execute_reply.started": "2021-08-13T09:09:57.303245Z"
    }
   },
   "source": [
    "Hold on. Rows 2-3 and 4-5 are clearly duplicates with an index difference of 1 (5017 - 5018, and 5177 - 5178). However. the first column (id = 1793) does not have a pair here. Let's find the previous index in the data:"
   ]
  },
  {
   "cell_type": "code",
   "execution_count": 25,
   "metadata": {
    "tags": []
   },
   "outputs": [
    {
     "name": "stderr",
     "output_type": "stream",
     "text": [
      "C:\\Users\\kalika01\\Anaconda\\envs\\pytorch_gpu\\lib\\site-packages\\ipykernel_launcher.py:2: PerformanceWarning: DataFrame is highly fragmented.  This is usually the result of calling `frame.insert` many times, which has poor performance.  Consider joining all columns at once using pd.concat(axis=1) instead.  To get a de-fragmented frame, use `newframe = frame.copy()`\n",
      "  \n"
     ]
    },
    {
     "data": {
      "text/html": [
       "<div>\n",
       "<style scoped>\n",
       "    .dataframe tbody tr th:only-of-type {\n",
       "        vertical-align: middle;\n",
       "    }\n",
       "\n",
       "    .dataframe tbody tr th {\n",
       "        vertical-align: top;\n",
       "    }\n",
       "\n",
       "    .dataframe thead th {\n",
       "        text-align: right;\n",
       "    }\n",
       "</style>\n",
       "<table border=\"1\" class=\"dataframe\">\n",
       "  <thead>\n",
       "    <tr style=\"text-align: right;\">\n",
       "      <th></th>\n",
       "      <th>Id</th>\n",
       "      <th>Response</th>\n",
       "      <th>L1_S24_F1713</th>\n",
       "      <th>L1_S25_F2016</th>\n",
       "      <th>L3_S30_F3589</th>\n",
       "      <th>L1_S24_F1609</th>\n",
       "      <th>L3_S29_F3433</th>\n",
       "      <th>L0_S12_F342</th>\n",
       "      <th>L3_S30_F3774</th>\n",
       "      <th>L1_S24_F1441</th>\n",
       "      <th>...</th>\n",
       "      <th>L0_S22_F586</th>\n",
       "      <th>L0_S2_F60</th>\n",
       "      <th>L3_S29_F3339</th>\n",
       "      <th>L3_S47_F4153</th>\n",
       "      <th>L3_S47_F4138</th>\n",
       "      <th>L0_S12_F350</th>\n",
       "      <th>L0_S12_F346</th>\n",
       "      <th>L0_S6_F132</th>\n",
       "      <th>L0_S11_F302</th>\n",
       "      <th>L0_S18_F439</th>\n",
       "    </tr>\n",
       "  </thead>\n",
       "  <tbody>\n",
       "    <tr>\n",
       "      <th>48</th>\n",
       "      <td>1793</td>\n",
       "      <td>1.0</td>\n",
       "      <td>NaN</td>\n",
       "      <td>NaN</td>\n",
       "      <td>-0.045</td>\n",
       "      <td>NaN</td>\n",
       "      <td>0.053</td>\n",
       "      <td>NaN</td>\n",
       "      <td>0.021</td>\n",
       "      <td>NaN</td>\n",
       "      <td>...</td>\n",
       "      <td>NaN</td>\n",
       "      <td>NaN</td>\n",
       "      <td>-0.012</td>\n",
       "      <td>NaN</td>\n",
       "      <td>NaN</td>\n",
       "      <td>NaN</td>\n",
       "      <td>NaN</td>\n",
       "      <td>-0.112</td>\n",
       "      <td>NaN</td>\n",
       "      <td>NaN</td>\n",
       "    </tr>\n",
       "    <tr>\n",
       "      <th>49</th>\n",
       "      <td>1794</td>\n",
       "      <td>0.0</td>\n",
       "      <td>NaN</td>\n",
       "      <td>NaN</td>\n",
       "      <td>-0.045</td>\n",
       "      <td>NaN</td>\n",
       "      <td>0.053</td>\n",
       "      <td>NaN</td>\n",
       "      <td>0.021</td>\n",
       "      <td>NaN</td>\n",
       "      <td>...</td>\n",
       "      <td>NaN</td>\n",
       "      <td>NaN</td>\n",
       "      <td>-0.012</td>\n",
       "      <td>NaN</td>\n",
       "      <td>NaN</td>\n",
       "      <td>NaN</td>\n",
       "      <td>NaN</td>\n",
       "      <td>-0.112</td>\n",
       "      <td>NaN</td>\n",
       "      <td>NaN</td>\n",
       "    </tr>\n",
       "  </tbody>\n",
       "</table>\n",
       "<p>2 rows × 166 columns</p>\n",
       "</div>"
      ],
      "text/plain": [
       "      Id  Response  L1_S24_F1713  L1_S25_F2016  L3_S30_F3589  L1_S24_F1609  \\\n",
       "48  1793       1.0           NaN           NaN        -0.045           NaN   \n",
       "49  1794       0.0           NaN           NaN        -0.045           NaN   \n",
       "\n",
       "    L3_S29_F3433  L0_S12_F342  L3_S30_F3774  L1_S24_F1441  ...  L0_S22_F586  \\\n",
       "48         0.053          NaN         0.021           NaN  ...          NaN   \n",
       "49         0.053          NaN         0.021           NaN  ...          NaN   \n",
       "\n",
       "    L0_S2_F60  L3_S29_F3339  L3_S47_F4153  L3_S47_F4138  L0_S12_F350  \\\n",
       "48        NaN        -0.012           NaN           NaN          NaN   \n",
       "49        NaN        -0.012           NaN           NaN          NaN   \n",
       "\n",
       "    L0_S12_F346  L0_S6_F132  L0_S11_F302  L0_S18_F439  \n",
       "48          NaN      -0.112          NaN          NaN  \n",
       "49          NaN      -0.112          NaN          NaN  \n",
       "\n",
       "[2 rows x 166 columns]"
      ]
     },
     "execution_count": 25,
     "metadata": {},
     "output_type": "execute_result"
    }
   ],
   "source": [
    "num_dupes.sort_index(inplace = True)\n",
    "num_dupes.reset_index(inplace = True)\n",
    "dupe_pair = num_dupes[(num_dupes['Id'] >= 1790) & (num_dupes['Id'] <= 1800)].sort_index()\n",
    "dupe_pair"
   ]
  },
  {
   "cell_type": "markdown",
   "metadata": {},
   "source": [
    "Indeed, these two rows seem to be exactly the same apart from the response. Let's verify:"
   ]
  },
  {
   "cell_type": "code",
   "execution_count": 26,
   "metadata": {
    "tags": []
   },
   "outputs": [
    {
     "data": {
      "text/plain": [
       "True"
      ]
     },
     "execution_count": 26,
     "metadata": {},
     "output_type": "execute_result"
    }
   ],
   "source": [
    "all(dupe_pair.drop(['Id', 'Response'], axis = 1).fillna(0).diff().iloc[1] == 0)"
   ]
  },
  {
   "cell_type": "markdown",
   "metadata": {},
   "source": [
    "Indeed. Apart from the response (and the index) these two rows are equal. Let's see if this occurs somewhere else as well:"
   ]
  },
  {
   "cell_type": "code",
   "execution_count": 27,
   "metadata": {
    "tags": []
   },
   "outputs": [
    {
     "data": {
      "image/png": "[encoded data removed]",
      "text/plain": [
       "<Figure size 432x288 with 1 Axes>"
      ]
     },
     "metadata": {
      "needs_background": "light"
     },
     "output_type": "display_data"
    }
   ],
   "source": [
    "dupes_x = (num_dupes.drop(['Id', 'Response'], axis = 1).fillna(0).diff().T == 0).all()\n",
    "dupes_y = num_dupes['Response'].diff().T != 0\n",
    "idx     = np.where(dupes_x & dupes_y)[0].tolist()\n",
    "idx.extend([elem - 1 for elem in idx])\n",
    "\n",
    "idx     = np.sort(idx)\n",
    "num_dupes[['Id', 'Response']].iloc[idx].diff()[1::2].plot.hist();\n"
   ]
  },
  {
   "cell_type": "markdown",
   "metadata": {
    "execution": {
     "iopub.execute_input": "2021-08-14T14:10:31.47205Z",
     "iopub.status.busy": "2021-08-14T14:10:31.471711Z",
     "iopub.status.idle": "2021-08-14T14:10:31.75875Z",
     "shell.execute_reply": "2021-08-14T14:10:31.756851Z",
     "shell.execute_reply.started": "2021-08-14T14:10:31.472023Z"
    }
   },
   "source": [
    "Yes, this happens throughout. So, we have confirmed that: Duplicate rows of the numeric features with an Id difference of +1 are very likely to have flipped response values.\n",
    "\n",
    "Does this apply to non-duplicate rows as well?"
   ]
  },
  {
   "cell_type": "code",
   "execution_count": 28,
   "metadata": {
    "tags": []
   },
   "outputs": [
    {
     "name": "stdout",
     "output_type": "stream",
     "text": [
      " 0.0    236986\n",
      "-1.0      1271\n",
      " 1.0      1265\n",
      "Name: Response, dtype: int64\n"
     ]
    }
   ],
   "source": [
    "idr = pd.DataFrame(data = np.vstack([train_num.index.values, y_train]).T, \n",
    "                   columns = ['Id', 'Response'])\n",
    "idr.sort_values(by = 'Id', inplace = True)\n",
    "idr = idr.diff()[1::2]\n",
    "\n",
    "print(idr[idr['Id'] == 1]['Response'].value_counts())"
   ]
  },
  {
   "cell_type": "markdown",
   "metadata": {
    "execution": {
     "iopub.execute_input": "2021-08-15T07:05:00.721155Z",
     "iopub.status.busy": "2021-08-15T07:05:00.72075Z",
     "iopub.status.idle": "2021-08-15T07:05:00.754467Z",
     "shell.execute_reply": "2021-08-15T07:05:00.75327Z",
     "shell.execute_reply.started": "2021-08-15T07:05:00.721119Z"
    }
   },
   "source": [
    "No, not really. Transitions from a zero response, to a unity response or vice versa are pretty much the same.\n",
    "Now, we need to encode this info on a set of features"
   ]
  },
  {
   "cell_type": "code",
   "execution_count": 29,
   "metadata": {
    "tags": []
   },
   "outputs": [],
   "source": [
    "# Make a column indicating if a row is a duplicate\n",
    "new_feats = df_num[train_num.columns].duplicated(keep = False).to_frame()\n",
    "new_feats.columns = ['dupe']\n",
    "\n",
    "# First-order differencing on index\n",
    "new_feats['diffId'] = new_feats.index\n",
    "new_feats['diffId'] = new_feats['diffId'].diff()\n",
    "\n",
    "# Flag the second appearance of each duplicate row\n",
    "new_feats['dupe_second_occur'] = df_num[train_num.columns].duplicated(keep = 'first')\n",
    "\n",
    "# Add features\n",
    "train_num   = pd.concat([train_num, new_feats.iloc[idx_trainval]], axis = 1)\n",
    "holdout_num = pd.concat([holdout_num, new_feats.iloc[idx_hold]], axis = 1)\n"
   ]
  },
  {
   "cell_type": "markdown",
   "metadata": {},
   "source": [
    "Let's add second order and interaction terms:"
   ]
  },
  {
   "cell_type": "code",
   "execution_count": 17,
   "metadata": {},
   "outputs": [],
   "source": [
    "train_num   = train_num.iloc[:, 0:167]\n",
    "holdout_num = holdout_num.iloc[:, 0:167]"
   ]
  },
  {
   "cell_type": "code",
   "execution_count": 27,
   "metadata": {},
   "outputs": [],
   "source": [
    "# Multiply with 1e2 the initial features as everything is between 0 and 1\n",
    "num_cols    = 164\n",
    "train_num.iloc[:, 0:num_cols] = train_num.iloc[:, 0:num_cols] * 100\n",
    "holdout_num.iloc[:, 0:num_cols] = holdout_num.iloc[:, 0:num_cols] * 100\n",
    "\n",
    "# Make second order polynomial features\n",
    "tmp         = train_num.iloc[:, 0:num_cols] ** 2\n",
    "tmp.columns = [col + '_sq' for col in tmp.columns]\n",
    "train_num   = pd.concat([train_num, tmp], axis = 1)\n",
    "\n",
    "tmp         = holdout_num.iloc[:, 0:num_cols] ** 2\n",
    "tmp.columns = [col + '_sq' for col in tmp.columns]\n",
    "holdout_num = pd.concat([holdout_num, tmp], axis = 1)"
   ]
  },
  {
   "cell_type": "markdown",
   "metadata": {
    "execution": {
     "iopub.execute_input": "2021-08-16T11:51:17.928828Z",
     "iopub.status.busy": "2021-08-16T11:51:17.928415Z",
     "iopub.status.idle": "2021-08-16T11:51:18.253402Z",
     "shell.execute_reply": "2021-08-16T11:51:18.252192Z",
     "shell.execute_reply.started": "2021-08-16T11:51:17.928795Z"
    }
   },
   "source": [
    "## Date Features"
   ]
  },
  {
   "cell_type": "code",
   "execution_count": 97,
   "metadata": {
    "tags": []
   },
   "outputs": [
    {
     "data": {
      "application/vnd.jupyter.widget-view+json": {
       "model_id": "0933348dfbd847f9a869200bfee43610",
       "version_major": 2,
       "version_minor": 0
      },
      "text/plain": [
       "  0%|          | 0/6 [00:00<?, ?it/s]"
      ]
     },
     "metadata": {},
     "output_type": "display_data"
    }
   ],
   "source": [
    "df_date = load_df(input_file = datadir + './train_date.csv.zip', d_type = np.float64, fill_value = np.nan, chunksize = 200000)"
   ]
  },
  {
   "cell_type": "markdown",
   "metadata": {},
   "source": [
    "Let's remove any constant columns:"
   ]
  },
  {
   "cell_type": "code",
   "execution_count": 98,
   "metadata": {
    "tags": []
   },
   "outputs": [],
   "source": [
    "cols_drop = df_date.columns[df_date.nunique() <= 1]\n",
    "df_date.drop(cols_drop, axis = 1, inplace = True)"
   ]
  },
  {
   "cell_type": "markdown",
   "metadata": {},
   "source": [
    "### Record duration\n",
    "\n",
    "Let's compute duration of each record (max - min) date time, starting time (min time), as well as transition times between consecutive stations. \n",
    "We'll do so in chunks so as not to run out of memory:"
   ]
  },
  {
   "cell_type": "code",
   "execution_count": 99,
   "metadata": {
    "tags": []
   },
   "outputs": [
    {
     "data": {
      "application/vnd.jupyter.widget-view+json": {
       "model_id": "5a5a4b7f187c4fcdafbf11e1c779a7cf",
       "version_major": 2,
       "version_minor": 0
      },
      "text/plain": [
       "  0%|          | 0/21 [00:00<?, ?it/s]"
      ]
     },
     "metadata": {},
     "output_type": "display_data"
    }
   ],
   "source": [
    "na_count = df_date.isnull().sum(axis = 1).values\n",
    "nonna    = df_date.shape[1] - na_count\n",
    "\n",
    "# Empty arrays to hold results\n",
    "dur  = np.empty((df_date.shape[0]))\n",
    "min_ = np.empty((df_date.shape[0]))\n",
    "\n",
    "# Chunksize for the computation\n",
    "chunk_size = int(df_date.shape[0] / 20)\n",
    "\n",
    "for start in tqdm(range(0, df_date.shape[0], chunk_size)):\n",
    "    df_subset = df_date.iloc[start:start + chunk_size]\n",
    "    dur[start:start + chunk_size]  = (df_subset.max(axis = 1) - df_subset.min(axis = 1)).values\n",
    "    min_[start:start + chunk_size] = df_subset.min(axis = 1).values"
   ]
  },
  {
   "cell_type": "code",
   "execution_count": 100,
   "metadata": {
    "tags": []
   },
   "outputs": [
    {
     "data": {
      "image/png": "[encoded data removed]",
      "text/plain": [
       "<Figure size 432x288 with 1 Axes>"
      ]
     },
     "metadata": {
      "needs_background": "light"
     },
     "output_type": "display_data"
    }
   ],
   "source": [
    "plt.hist(dur[y == 0], 50, density = True, alpha = 0.5);\n",
    "plt.hist(dur[y == 1], 50, density = True, alpha = 0.5);\n",
    "plt.title('Record Duration');\n",
    "plt.ylabel('Probability')\n",
    "plt.xlabel('Time');\n",
    "plt.xlim([0, 150]);\n",
    "plt.legend(['response = 0', 'response = 1']);"
   ]
  },
  {
   "cell_type": "markdown",
   "metadata": {},
   "source": [
    "There's not that much of a difference. Perhaps duration divided by the number of recorded features might be more informative:"
   ]
  },
  {
   "cell_type": "code",
   "execution_count": 101,
   "metadata": {
    "tags": []
   },
   "outputs": [
    {
     "data": {
      "image/png": "[encoded data removed]",
      "text/plain": [
       "<Figure size 432x288 with 1 Axes>"
      ]
     },
     "metadata": {
      "needs_background": "light"
     },
     "output_type": "display_data"
    }
   ],
   "source": [
    "plt.hist(dur[y == 0] / nonna[y == 0], 100, density = True, alpha = 0.5);\n",
    "plt.hist(dur[y == 1] / nonna[y == 1], 100, density = True, alpha = 0.5);\n",
    "plt.title('Record Duration / no. recorded values');\n",
    "plt.ylabel('Probability')\n",
    "plt.xlabel('Time');\n",
    "plt.xlim([0, 0.6]);\n",
    "plt.legend(['response = 0', 'response = 1']);"
   ]
  },
  {
   "cell_type": "markdown",
   "metadata": {},
   "source": [
    "### Station transition sequence\n",
    "Let's also encode the entire station-by-station sequence. Perhaps this holds useful info:"
   ]
  },
  {
   "cell_type": "code",
   "execution_count": 102,
   "metadata": {
    "tags": []
   },
   "outputs": [],
   "source": [
    "def station_seq(date_df_row):\n",
    "    \n",
    "    # Sort by time and get index (original df column: line_station_feature)\n",
    "    date_df_row = date_df_row.sort_values().dropna().to_frame().drop_duplicates().index\n",
    "    \n",
    "    # Make a sequence of stations from the index \n",
    "    seq = map(lambda x: str(x.split('_')[1].strip('S')), date_df_row)\n",
    "    \n",
    "    # Return unique while keeping order\n",
    "    seq = list(dict.fromkeys(seq))\n",
    "    \n",
    "    return '_'.join(seq)"
   ]
  },
  {
   "cell_type": "code",
   "execution_count": 36,
   "metadata": {},
   "outputs": [
    {
     "data": {
      "application/vnd.jupyter.widget-view+json": {
       "model_id": "3a5b0be67082454ca117284866367bf2",
       "version_major": 2,
       "version_minor": 0
      },
      "text/plain": [
       "  0%|          | 0/1183747 [00:00<?, ?it/s]"
      ]
     },
     "metadata": {},
     "output_type": "display_data"
    }
   ],
   "source": [
    "tqdm.pandas()\n",
    "transition_seq = df_date.progress_apply(lambda row: station_seq(row), axis = 1)"
   ]
  },
  {
   "cell_type": "markdown",
   "metadata": {},
   "source": [
    "Let's have a look:"
   ]
  },
  {
   "cell_type": "code",
   "execution_count": 105,
   "metadata": {},
   "outputs": [
    {
     "name": "stdout",
     "output_type": "stream",
     "text": [
      "Unique station transitions: 42214\n"
     ]
    }
   ],
   "source": [
    "print(f\"Unique station transitions: {len(transition_seq.unique())}\")"
   ]
  },
  {
   "cell_type": "markdown",
   "metadata": {
    "tags": []
   },
   "source": [
    "One-hot encoding is not the best option here."
   ]
  },
  {
   "cell_type": "code",
   "execution_count": 38,
   "metadata": {},
   "outputs": [
    {
     "data": {
      "image/png": "[encoded data removed]",
      "text/plain": [
       "<Figure size 1080x360 with 1 Axes>"
      ]
     },
     "metadata": {
      "needs_background": "light"
     },
     "output_type": "display_data"
    }
   ],
   "source": [
    "seq_to_plot = 50\n",
    "transition_seq.value_counts().sort_values(ascending = False).head(seq_to_plot).plot.bar(\n",
    "    xticks  = np.arange(seq_to_plot), \n",
    "    figsize = (15, 5),\n",
    "    title   = '# Occurences of most frequent station-to-station transition sequences',\n",
    "    xlabel  = 'Transition ID',\n",
    "    ylabel  = '# Occurences'\n",
    ");"
   ]
  },
  {
   "cell_type": "markdown",
   "metadata": {},
   "source": [
    "Target encoding with additive smoothing is probably a good approach. There is information leak since we're doing this outside of resampling, but with so much data it should not be a problem:"
   ]
  },
  {
   "cell_type": "code",
   "execution_count": 39,
   "metadata": {},
   "outputs": [],
   "source": [
    "def calc_smooth_mean(df, by, on, m):\n",
    "    '''\n",
    "    Credit: https://maxhalford.github.io/blog/target-encoding/\n",
    "    '''\n",
    "    \n",
    "    # Compute the global mean\n",
    "    mean = df[on].mean()\n",
    "\n",
    "    # Compute the number of values and the mean of each group\n",
    "    agg    = df.groupby(by)[on].agg(['count', 'mean'])\n",
    "    counts = agg['count']\n",
    "    means  = agg['mean']\n",
    "\n",
    "    # Compute the \"smoothed\" means\n",
    "    smooth = (counts * means + m * mean) / (counts + m)\n",
    "\n",
    "    # Replace each value by the according smoothed mean\n",
    "    return df[by].map(smooth)"
   ]
  },
  {
   "cell_type": "code",
   "execution_count": 40,
   "metadata": {},
   "outputs": [],
   "source": [
    "# Convert to dataframe and add target\n",
    "transition_seq = transition_seq.to_frame()\n",
    "transition_seq.columns   = ['sequence']\n",
    "transition_seq['target'] = y\n",
    "\n",
    "# Run encoder\n",
    "transition_seq['seq_encoded'] = calc_smooth_mean(transition_seq, by = 'sequence', on = 'target', m = 3000)"
   ]
  },
  {
   "cell_type": "markdown",
   "metadata": {},
   "source": [
    "### Station Duration\n",
    "Let's also compute duration at each station for each record. This will be defined as the time difference between the first and last recorded feature:"
   ]
  },
  {
   "cell_type": "code",
   "execution_count": 108,
   "metadata": {},
   "outputs": [],
   "source": [
    "stations = list(set([col.split('_')[1] for col in df_date.columns]))\n",
    "station_durs = []\n",
    "\n",
    "for station in stations:\n",
    "    \n",
    "    # Grab features referring to this station only\n",
    "    station_cols = [col for col in df_date.columns if station == col.split('_')[1]]\n",
    "    df_temp      = df_date[station_cols]\n",
    "    \n",
    "    # Compute duration and append\n",
    "    station_dur  = df_temp.max(axis = 1) - df_temp.min(axis = 1)\n",
    "    station_dur = station_dur.to_frame()\n",
    "    station_dur.columns = [station]\n",
    "    station_durs.append(station_dur)\n",
    "\n",
    "station_durs = pd.concat(station_durs, axis = 1)"
   ]
  },
  {
   "cell_type": "markdown",
   "metadata": {},
   "source": [
    "Let's also drop any constant columns that arise from this:"
   ]
  },
  {
   "cell_type": "code",
   "execution_count": 110,
   "metadata": {},
   "outputs": [],
   "source": [
    "# Get columns containing constant values\n",
    "cols_to_drop = station_durs.columns[station_durs.nunique() <= 1]\n",
    "\n",
    "# Drop them\n",
    "station_durs.drop(cols_to_drop, axis = 1, inplace = True)"
   ]
  },
  {
   "cell_type": "markdown",
   "metadata": {},
   "source": [
    "Alright, let's make the new dataframe with all the date features"
   ]
  },
  {
   "cell_type": "code",
   "execution_count": 111,
   "metadata": {},
   "outputs": [],
   "source": [
    "# Get station durations\n",
    "df_date_new = station_durs.copy()\n",
    "\n",
    "# Add otal duration\n",
    "df_date_new['total_dur'] = dur\n",
    "\n",
    "# Add initial date\n",
    "df_date_new['date_min'] = min_\n",
    "\n",
    "# Add the encoded transition sequence\n",
    "df_date_new['transition_seq'] = transition_seq['seq_encoded'].values\n",
    "\n",
    "# Add no missing\n",
    "df_date_new['na_count'] = na_count"
   ]
  },
  {
   "cell_type": "markdown",
   "metadata": {
    "execution": {
     "iopub.execute_input": "2021-08-17T14:39:16.037707Z",
     "iopub.status.busy": "2021-08-17T14:39:16.037246Z",
     "iopub.status.idle": "2021-08-17T14:39:16.316372Z",
     "shell.execute_reply": "2021-08-17T14:39:16.315462Z",
     "shell.execute_reply.started": "2021-08-17T14:39:16.037669Z"
    }
   },
   "source": [
    "Let's have a closer look at the starting dates. Perhaps there's more info rearding the response (same way there was info in the Id column of the numerical features). "
   ]
  },
  {
   "cell_type": "code",
   "execution_count": 112,
   "metadata": {},
   "outputs": [
    {
     "data": {
      "image/png": "[encoded data removed]",
      "text/plain": [
       "<Figure size 1080x360 with 1 Axes>"
      ]
     },
     "metadata": {
      "needs_background": "light"
     },
     "output_type": "display_data"
    }
   ],
   "source": [
    "plt.figure(figsize = (15, 5))\n",
    "plt.plot(np.arange(df_date_new.shape[0]), df_date_new['date_min'].sort_values())\n",
    "plt.xlabel('Record #');\n",
    "plt.ylabel('Sorted Start Date');\n",
    "plt.title('Starting date of each record');"
   ]
  },
  {
   "cell_type": "markdown",
   "metadata": {
    "execution": {
     "iopub.execute_input": "2021-08-17T15:26:33.168974Z",
     "iopub.status.busy": "2021-08-17T15:26:33.168365Z",
     "iopub.status.idle": "2021-08-17T15:26:33.217699Z",
     "shell.execute_reply": "2021-08-17T15:26:33.216847Z",
     "shell.execute_reply.started": "2021-08-17T15:26:33.168919Z"
    }
   },
   "source": [
    "Same starting days seem to be appearing in different records (the small jumps on the graph above). Let's plot the number of occurences of each starting date"
   ]
  },
  {
   "cell_type": "code",
   "execution_count": 113,
   "metadata": {},
   "outputs": [
    {
     "name": "stdout",
     "output_type": "stream",
     "text": [
      "Timestamp granularity range: 0.009999999999990905 12.659999999999854\n",
      "Timestamp granularity median: 0.009999999999990905\n"
     ]
    },
    {
     "data": {
      "image/png": "[encoded data removed]",
      "text/plain": [
       "<Figure size 1080x360 with 1 Axes>"
      ]
     },
     "metadata": {
      "needs_background": "light"
     },
     "output_type": "display_data"
    }
   ],
   "source": [
    "start_dates = df_date_new['date_min'].value_counts().reset_index().sort_values(by = 'index')\n",
    "start_dates.columns = ['time', 'cnt']\n",
    "\n",
    "plt.figure(figsize = (15, 5))\n",
    "plt.scatter(start_dates['time'], start_dates['cnt'], marker = '.')\n",
    "plt.xlabel('Starting Date');\n",
    "plt.ylabel('# Occurences');\n",
    "plt.title('# Occurences of record starting date');\n",
    "print('Timestamp granularity range:', start_dates['time'].diff().min(), start_dates['time'].diff().max())\n",
    "print('Timestamp granularity median:', start_dates['time'].diff().median())"
   ]
  },
  {
   "cell_type": "markdown",
   "metadata": {},
   "source": [
    "We have records every 0.01 units of time, with the big gap in the middle of graph being equal to 12.66 units of time.\n",
    "There also seems to be some periodicity in the graph. Let's check for autocorrelations:"
   ]
  },
  {
   "cell_type": "code",
   "execution_count": 114,
   "metadata": {},
   "outputs": [
    {
     "data": {
      "image/png": "[encoded data removed]",
      "text/plain": [
       "<Figure size 1080x360 with 1 Axes>"
      ]
     },
     "metadata": {
      "needs_background": "light"
     },
     "output_type": "display_data"
    }
   ],
   "source": [
    "# Make a dataframe with equally spaced times w/ a granularity of 0.01\n",
    "times_regular = pd.DataFrame(data = np.arange(start_dates['time'].min(), start_dates['time'].max(), 0.01), \n",
    "                             columns = ['time'])\n",
    "\n",
    "# Merge with the value counts & fill NaNs by zero\n",
    "time_counts = start_dates.merge(times_regular, how = 'right', on = 'time').fillna(0)\n",
    "\n",
    "# Autocorrelation\n",
    "x         = time_counts['cnt'].values\n",
    "max_lag   = 6000\n",
    "auto_corr = np.array([np.corrcoef(x[: -lag], x[lag:])[0, 1] for lag in range(1, max_lag)])\n",
    "\n",
    "# Plot\n",
    "fig = plt.figure(figsize = (15, 5))\n",
    "plt.plot(auto_corr, '.')\n",
    "for k in range(1, 4):\n",
    "    plt.vlines(x = 1680 * k, ymin = auto_corr.min(), ymax = auto_corr.max(), color = 'r')\n",
    "plt.title('# Occurences of record starting date - Auto-correlation');\n",
    "plt.ylabel('PPMCC');\n",
    "plt.xlabel('Lag');\n"
   ]
  },
  {
   "cell_type": "markdown",
   "metadata": {},
   "source": [
    "The highest autocorrelation occurs approximately every 1680 units of time (1 unit of time = 0.01). Perhaps day number will be a useful feature:"
   ]
  },
  {
   "cell_type": "code",
   "execution_count": 115,
   "metadata": {},
   "outputs": [],
   "source": [
    "day_time = 1680 * 0.01 # Units of time in one day(?)\n",
    "df_date_new['start_day_no'] = df_date_new['date_min'] // day_time\n",
    "df_date_new['end_day_no']   = (df_date_new['date_min'] + df_date_new['total_dur']) // day_time"
   ]
  },
  {
   "cell_type": "code",
   "execution_count": 116,
   "metadata": {},
   "outputs": [],
   "source": [
    "# Make train and holdout sets\n",
    "train_date   = df_date_new.iloc[idx_trainval]\n",
    "holdout_date = df_date_new.iloc[idx_hold]"
   ]
  },
  {
   "cell_type": "markdown",
   "metadata": {
    "tags": []
   },
   "source": [
    "## Categorical Features"
   ]
  },
  {
   "cell_type": "code",
   "execution_count": 74,
   "metadata": {
    "tags": []
   },
   "outputs": [
    {
     "data": {
      "application/vnd.jupyter.widget-view+json": {
       "model_id": "7ebcc7c3c2c649e2b751918eeb4dcbb7",
       "version_major": 2,
       "version_minor": 0
      },
      "text/plain": [
       "  0%|          | 0/12 [00:00<?, ?it/s]"
      ]
     },
     "metadata": {},
     "output_type": "display_data"
    },
    {
     "data": {
      "text/plain": [
       "(1183747, 2140)"
      ]
     },
     "execution_count": 74,
     "metadata": {},
     "output_type": "execute_result"
    }
   ],
   "source": [
    "df_cat = load_df(input_file = datadir + 'train_categorical.csv.zip', d_type = str, fill_value = np.nan, chunksize = 100000)\n",
    "df_cat.shape"
   ]
  },
  {
   "cell_type": "markdown",
   "metadata": {},
   "source": [
    "An additional 2140 categorical features. Let's check missing data patterns:"
   ]
  },
  {
   "cell_type": "code",
   "execution_count": 75,
   "metadata": {},
   "outputs": [
    {
     "data": {
      "image/png": "[encoded data removed]",
      "text/plain": [
       "<Figure size 1080x288 with 1 Axes>"
      ]
     },
     "metadata": {
      "needs_background": "light"
     },
     "output_type": "display_data"
    }
   ],
   "source": [
    "no_samples = df_cat.shape[0]\n",
    "\n",
    "(df_cat.isna().sum()/no_samples * 100).plot(kind = 'bar', xticks = [], figsize = (15, 4), \n",
    "                                            title = '% Missing - Categorical',\n",
    "                                            xlabel = 'Categorical Feature',\n",
    "                                            ylabel = '% Missing');"
   ]
  },
  {
   "cell_type": "markdown",
   "metadata": {},
   "source": [
    "Apart from a few features with 40% missing records, everything else has a missing ratio of more than 80%. Let's drop columns with all missing:"
   ]
  },
  {
   "cell_type": "code",
   "execution_count": 76,
   "metadata": {},
   "outputs": [
    {
     "data": {
      "text/plain": [
       "(1183747, 1977)"
      ]
     },
     "execution_count": 76,
     "metadata": {},
     "output_type": "execute_result"
    }
   ],
   "source": [
    "cols_drop = df_cat.columns[df_cat.isna().all()]\n",
    "df_cat.drop(cols_drop, axis = 1, inplace = True)\n",
    "df_cat.shape"
   ]
  },
  {
   "cell_type": "markdown",
   "metadata": {
    "execution": {
     "iopub.execute_input": "2021-08-19T09:56:38.004437Z",
     "iopub.status.busy": "2021-08-19T09:56:38.004123Z",
     "iopub.status.idle": "2021-08-19T09:56:38.009811Z",
     "shell.execute_reply": "2021-08-19T09:56:38.008445Z",
     "shell.execute_reply.started": "2021-08-19T09:56:38.00441Z"
    }
   },
   "source": [
    "We got rid of around 40 columns...\n",
    "Perhaps we could aggreggate categorical features per station:"
   ]
  },
  {
   "cell_type": "markdown",
   "metadata": {},
   "source": [
    "The character T appears in every non-nan cell, followed by a number (probably an ID), let's get rid of it and convert the datatype:"
   ]
  },
  {
   "cell_type": "code",
   "execution_count": 77,
   "metadata": {},
   "outputs": [],
   "source": [
    "df_cat = df_cat.apply(lambda col: col.map(lambda cell: str(cell).lstrip('T') if isinstance(cell, str) else cell))\n",
    "df_cat = df_cat.astype(float)"
   ]
  },
  {
   "cell_type": "markdown",
   "metadata": {},
   "source": [
    "We will compute the number of non-missing values on a station level, and we'll drop the original dataframe"
   ]
  },
  {
   "cell_type": "code",
   "execution_count": 78,
   "metadata": {},
   "outputs": [
    {
     "data": {
      "application/vnd.jupyter.widget-view+json": {
       "model_id": "77f0d19989544f7fa012a877c6b0847e",
       "version_major": 2,
       "version_minor": 0
      },
      "text/plain": [
       "  0%|          | 0/31 [00:00<?, ?it/s]"
      ]
     },
     "metadata": {},
     "output_type": "display_data"
    }
   ],
   "source": [
    "# Grab all stations appearing in the categorical features\n",
    "cat_stations = np.unique([col.split('_')[1] for col in df_cat.columns])\n",
    "\n",
    "# List to hold results\n",
    "res = []\n",
    "\n",
    "for station in tqdm(cat_stations):\n",
    "    \n",
    "    # Grab columns for this station\n",
    "    cols    = [col for col in df_cat.columns if station == col.split('_')[1]]\n",
    "    \n",
    "    # Number of non-missing values in each row for this station\n",
    "    no_nan = df_cat[cols].notna().sum(axis = 1)\n",
    "    no_nan = no_nan.to_frame()\n",
    "    no_nan.columns = [station]\n",
    "    \n",
    "    res.append(no_nan)\n",
    "    \n",
    "df_cat_new = pd.concat(res, axis = 1).astype(int)\n",
    "\n",
    "# Make train and holdout sets\n",
    "train_cat   = df_cat_new.iloc[idx_trainval]\n",
    "holdout_cat = df_cat_new.iloc[idx_hold]"
   ]
  },
  {
   "cell_type": "markdown",
   "metadata": {},
   "source": [
    "## Make and save datasets"
   ]
  },
  {
   "cell_type": "markdown",
   "metadata": {},
   "source": [
    "Let's make a checkpoint here with the final datasets:"
   ]
  },
  {
   "cell_type": "code",
   "execution_count": 44,
   "metadata": {},
   "outputs": [],
   "source": [
    "# Make datasets\n",
    "X_train   = csr_matrix( pd.concat( [train_num, train_date, train_cat], axis = 1).values )\n",
    "X_holdout = csr_matrix( pd.concat( [holdout_num, holdout_date, holdout_cat], axis = 1).values )"
   ]
  },
  {
   "cell_type": "code",
   "execution_count": 45,
   "metadata": {},
   "outputs": [],
   "source": [
    "# Make checkpoint\n",
    "save_list = [X_train, X_holdout, y_train, y_holdout, skf]\n",
    "file_name = \"./datasets.pkl\"\n",
    "open_file = open(file_name, \"wb\")\n",
    "pickle.dump(save_list, open_file)\n",
    "open_file.close()"
   ]
  },
  {
   "cell_type": "markdown",
   "metadata": {},
   "source": [
    "## Modelling\n",
    "\n",
    "### Load the datasets"
   ]
  },
  {
   "cell_type": "code",
   "execution_count": 2,
   "metadata": {},
   "outputs": [],
   "source": [
    "# Load checkpoint\n",
    "file_name = \"./datasets.pkl\"\n",
    "open_file = open(file_name, \"rb\")\n",
    "X_train, X_holdout, y_train, y_holdout, skf = pickle.load(open_file)\n",
    "open_file.close()"
   ]
  },
  {
   "cell_type": "markdown",
   "metadata": {},
   "source": [
    "### Evaluation metric\n",
    "\n",
    "We need a function to compute the Matthews Correlation Coefficient (MCC) in an efficient way for xgboost. We'll use some numba magic for this, so as to optimise the threshold probability as well:"
   ]
  },
  {
   "cell_type": "code",
   "execution_count": 3,
   "metadata": {},
   "outputs": [],
   "source": [
    "@jit(nopython = True)\n",
    "def mcc(tp, tn, fp, fn):\n",
    "    sup = tp * tn - fp * fn\n",
    "    inf = (tp + fp) * (tp + fn) * (tn + fp) * (tn + fn)\n",
    "    \n",
    "    if inf == 0:\n",
    "        return 0\n",
    "    else:\n",
    "        return sup / np.sqrt(inf)\n",
    "\n",
    "@jit(nopython = True)\n",
    "def eval_mcc(y_true, y_prob):\n",
    "    \n",
    "    # Sort arrays\n",
    "    idx         = np.argsort(y_prob)\n",
    "    y_true_sort = y_true[idx]\n",
    "    \n",
    "    # Get # samples\n",
    "    n = y_true.shape[0]\n",
    "    \n",
    "    # Get no. positive and no. negative\n",
    "    nump = 1.0 * np.sum(y_true) # number of positive\n",
    "    numn = n - nump # number of negative\n",
    "    \n",
    "    tp = nump\n",
    "    tn = 0.0\n",
    "    fp = numn\n",
    "    fn = 0.0\n",
    "    \n",
    "    best_mcc   = 0.0\n",
    "    best_id    = -1\n",
    "    prev_proba = -1\n",
    "    best_proba = -1\n",
    "    \n",
    "    # Initialise array for results\n",
    "    mccs = np.zeros(n)\n",
    "    \n",
    "    for i in range(n):\n",
    "        # all items with idx < i are predicted negative while others are predicted positive\n",
    "        # only evaluate mcc when probability changes\n",
    "        proba = y_prob[idx[i]]\n",
    "        \n",
    "        if proba != prev_proba:\n",
    "            \n",
    "            prev_proba = proba\n",
    "            new_mcc    = mcc(tp, tn, fp, fn)\n",
    "            \n",
    "            if new_mcc >= best_mcc:\n",
    "                \n",
    "                best_mcc   = new_mcc\n",
    "                best_id    = i\n",
    "                best_proba = proba\n",
    "                \n",
    "        mccs[i] = new_mcc\n",
    "        \n",
    "        if y_true_sort[i] == 1:\n",
    "            tp -= 1.0\n",
    "            fn += 1.0\n",
    "        else:\n",
    "            fp -= 1.0\n",
    "            tn += 1.0\n",
    "    \n",
    "    return best_mcc\n",
    "\n",
    "# Evaluation metric compatible with xgboost api\n",
    "def mcc_eval(y_prob, dtrain):\n",
    "    \n",
    "    y_true   = dtrain.get_label()\n",
    "    best_mcc = eval_mcc(y_true, y_prob)\n",
    "    \n",
    "    return 'MCC', best_mcc"
   ]
  },
  {
   "cell_type": "markdown",
   "metadata": {},
   "source": [
    "Let't time it:"
   ]
  },
  {
   "cell_type": "code",
   "execution_count": 4,
   "metadata": {},
   "outputs": [
    {
     "name": "stdout",
     "output_type": "stream",
     "text": [
      "168 ms ± 16.5 ms per loop (mean ± std. dev. of 7 runs, 1 loop each)\n"
     ]
    }
   ],
   "source": [
    "y_prob0 = np.random.rand(1000000)\n",
    "y_prob  = y_prob0 + 0.4 * np.random.rand(1000000) - 0.02\n",
    "y_true  = (y_prob0 > 0.6).astype(int)\n",
    "\n",
    "%timeit eval_mcc(y_true, y_prob)\n",
    "\n",
    "del y_prob0, y_prob, y_true\n",
    "gc.collect();"
   ]
  },
  {
   "cell_type": "markdown",
   "metadata": {},
   "source": [
    "### k-fold CV\n",
    "\n",
    "We'll use xgboost as the learning algorithm. Let's write a wrapper to perform k-fold CV and return the average validation MCC:"
   ]
  },
  {
   "cell_type": "code",
   "execution_count": 5,
   "metadata": {},
   "outputs": [],
   "source": [
    "def CV(X_train, y_train, skf, eta, gamma, max_depth, num_boost_round, subsample, colsample_bytree, alpha, lamda):\n",
    "    \n",
    "    # Early stopping\n",
    "    early_stopping_rounds = 10\n",
    "\n",
    "    # Make parameter dict for xgboost\n",
    "    xgb_params = {\"nthread\": -1, \"booster\":\"gbtree\", \"objective\": \"binary:logistic\", \n",
    "                  \"eval_metric\": \"auc\", \"tree_method\": \"hist\", \"eta\": eta, \"gamma\": gamma, \n",
    "                  \"max_depth\": int(max_depth), \"subsample\": subsample,\n",
    "                  \"colsample_bytree\": colsample_bytree, \"alpha\": alpha, \"lambda\": lamda}\n",
    "    \n",
    "    # Run CV with the given parameters\n",
    "    scores = []\n",
    "    for train_idx, val_idx in skf.split(np.zeros(y_train.shape[0]), y_train):\n",
    "\n",
    "        # Make train and validation sets for this fold\n",
    "        X_train_, y_train_ = X_train[train_idx, :], y_train[train_idx]\n",
    "        X_val_, y_val_     = X_train[val_idx, :], y_train[val_idx]\n",
    "\n",
    "        # Make dmatrix\n",
    "        dtrain = xgb.DMatrix(X_train_, y_train_)\n",
    "        dval   = xgb.DMatrix(X_val_, y_val_)\n",
    "\n",
    "        # Scale positive instances\n",
    "        sum_neg, sum_pos = np.sum(y_train_ == 0), np.sum(y_train_ == 1)\n",
    "        xgb_params[\"scale_pos_weight\"] = sum_neg / sum_pos\n",
    "\n",
    "        # Train using the parameters\n",
    "        bst = xgb.train(params = xgb_params,\n",
    "                        dtrain = dtrain,\n",
    "                        feval  = mcc_eval,\n",
    "                        evals  = [ (dtrain, 'train'), (dval, 'eval') ],\n",
    "                        maximize = True,\n",
    "                        verbose_eval = False,\n",
    "                        num_boost_round = int(num_boost_round),\n",
    "                        early_stopping_rounds = early_stopping_rounds)\n",
    "\n",
    "        # Grab the best score on the validation set\n",
    "        scores.append(bst.best_score)\n",
    "        \n",
    "    return np.mean(scores)"
   ]
  },
  {
   "cell_type": "markdown",
   "metadata": {},
   "source": [
    "Now, we can perform hyperparameter tuning:"
   ]
  },
  {
   "cell_type": "code",
   "execution_count": 6,
   "metadata": {},
   "outputs": [
    {
     "name": "stdout",
     "output_type": "stream",
     "text": [
      "|   iter    |  target   |   alpha   | colsam... |    eta    |   gamma   |   lamda   | max_depth | num_bo... | subsample |\n",
      "-------------------------------------------------------------------------------------------------------------------------\n",
      "| \u001b[0m 1       \u001b[0m | \u001b[0m 0.2763  \u001b[0m | \u001b[0m 6.122   \u001b[0m | \u001b[0m 0.5761  \u001b[0m | \u001b[0m 0.159   \u001b[0m | \u001b[0m 76.93   \u001b[0m | \u001b[0m 2.953   \u001b[0m | \u001b[0m 11.71   \u001b[0m | \u001b[0m 12.02   \u001b[0m | \u001b[0m 0.6891  \u001b[0m |\n",
      "| \u001b[95m 2       \u001b[0m | \u001b[95m 0.2893  \u001b[0m | \u001b[95m 2.387   \u001b[0m | \u001b[95m 0.6519  \u001b[0m | \u001b[95m 0.2977  \u001b[0m | \u001b[95m 23.77   \u001b[0m | \u001b[95m 0.8119  \u001b[0m | \u001b[95m 35.13   \u001b[0m | \u001b[95m 65.91   \u001b[0m | \u001b[95m 0.6234  \u001b[0m |\n",
      "| \u001b[95m 3       \u001b[0m | \u001b[95m 0.3089  \u001b[0m | \u001b[95m 4.662   \u001b[0m | \u001b[95m 0.5533  \u001b[0m | \u001b[95m 0.06849 \u001b[0m | \u001b[95m 90.08   \u001b[0m | \u001b[95m 7.94    \u001b[0m | \u001b[95m 42.83   \u001b[0m | \u001b[95m 83.37   \u001b[0m | \u001b[95m 0.9459  \u001b[0m |\n",
      "| \u001b[0m 4       \u001b[0m | \u001b[0m 0.2689  \u001b[0m | \u001b[0m 5.773   \u001b[0m | \u001b[0m 0.8662  \u001b[0m | \u001b[0m 0.1553  \u001b[0m | \u001b[0m 2.745   \u001b[0m | \u001b[0m 4.541   \u001b[0m | \u001b[0m 9.74    \u001b[0m | \u001b[0m 83.55   \u001b[0m | \u001b[0m 0.814   \u001b[0m |\n",
      "| \u001b[95m 5       \u001b[0m | \u001b[95m 0.3226  \u001b[0m | \u001b[95m 5.653   \u001b[0m | \u001b[95m 0.6234  \u001b[0m | \u001b[95m 0.2996  \u001b[0m | \u001b[95m 13.8    \u001b[0m | \u001b[95m 6.154   \u001b[0m | \u001b[95m 26.83   \u001b[0m | \u001b[95m 46.45   \u001b[0m | \u001b[95m 0.8275  \u001b[0m |\n",
      "| \u001b[0m 6       \u001b[0m | \u001b[0m 0.2902  \u001b[0m | \u001b[0m 3.228   \u001b[0m | \u001b[0m 0.6802  \u001b[0m | \u001b[0m 0.1297  \u001b[0m | \u001b[0m 94.72   \u001b[0m | \u001b[0m 9.187   \u001b[0m | \u001b[0m 41.62   \u001b[0m | \u001b[0m 13.07   \u001b[0m | \u001b[0m 0.9245  \u001b[0m |\n",
      "| \u001b[0m 7       \u001b[0m | \u001b[0m 0.262   \u001b[0m | \u001b[0m 9.504   \u001b[0m | \u001b[0m 0.863   \u001b[0m | \u001b[0m 0.1703  \u001b[0m | \u001b[0m 96.68   \u001b[0m | \u001b[0m 4.17    \u001b[0m | \u001b[0m 19.35   \u001b[0m | \u001b[0m 11.48   \u001b[0m | \u001b[0m 0.5172  \u001b[0m |\n",
      "| \u001b[0m 8       \u001b[0m | \u001b[0m 0.2773  \u001b[0m | \u001b[0m 0.5309  \u001b[0m | \u001b[0m 0.5576  \u001b[0m | \u001b[0m 0.05835 \u001b[0m | \u001b[0m 22.64   \u001b[0m | \u001b[0m 5.439   \u001b[0m | \u001b[0m 13.04   \u001b[0m | \u001b[0m 26.14   \u001b[0m | \u001b[0m 0.5673  \u001b[0m |\n",
      "| \u001b[0m 9       \u001b[0m | \u001b[0m 0.3113  \u001b[0m | \u001b[0m 6.83    \u001b[0m | \u001b[0m 0.7111  \u001b[0m | \u001b[0m 0.2421  \u001b[0m | \u001b[0m 66.88   \u001b[0m | \u001b[0m 4.413   \u001b[0m | \u001b[0m 31.79   \u001b[0m | \u001b[0m 51.55   \u001b[0m | \u001b[0m 0.9335  \u001b[0m |\n",
      "| \u001b[0m 10      \u001b[0m | \u001b[0m 0.2662  \u001b[0m | \u001b[0m 1.478   \u001b[0m | \u001b[0m 0.9081  \u001b[0m | \u001b[0m 0.1745  \u001b[0m | \u001b[0m 59.25   \u001b[0m | \u001b[0m 6.847   \u001b[0m | \u001b[0m 12.99   \u001b[0m | \u001b[0m 87.82   \u001b[0m | \u001b[0m 0.7169  \u001b[0m |\n",
      "| \u001b[0m 11      \u001b[0m | \u001b[0m 0.2749  \u001b[0m | \u001b[0m 0.6934  \u001b[0m | \u001b[0m 0.6641  \u001b[0m | \u001b[0m 0.1404  \u001b[0m | \u001b[0m 47.21   \u001b[0m | \u001b[0m 1.795   \u001b[0m | \u001b[0m 12.89   \u001b[0m | \u001b[0m 95.42   \u001b[0m | \u001b[0m 0.7951  \u001b[0m |\n",
      "| \u001b[0m 12      \u001b[0m | \u001b[0m 0.2736  \u001b[0m | \u001b[0m 1.35    \u001b[0m | \u001b[0m 0.9175  \u001b[0m | \u001b[0m 0.2604  \u001b[0m | \u001b[0m 5.278   \u001b[0m | \u001b[0m 2.037   \u001b[0m | \u001b[0m 44.26   \u001b[0m | \u001b[0m 70.65   \u001b[0m | \u001b[0m 0.6338  \u001b[0m |\n",
      "| \u001b[0m 13      \u001b[0m | \u001b[0m 0.2941  \u001b[0m | \u001b[0m 7.344   \u001b[0m | \u001b[0m 0.7783  \u001b[0m | \u001b[0m 0.1026  \u001b[0m | \u001b[0m 80.21   \u001b[0m | \u001b[0m 0.5911  \u001b[0m | \u001b[0m 18.87   \u001b[0m | \u001b[0m 28.66   \u001b[0m | \u001b[0m 0.9375  \u001b[0m |\n",
      "| \u001b[0m 14      \u001b[0m | \u001b[0m 0.2784  \u001b[0m | \u001b[0m 9.094   \u001b[0m | \u001b[0m 0.8044  \u001b[0m | \u001b[0m 0.0788  \u001b[0m | \u001b[0m 95.8    \u001b[0m | \u001b[0m 0.9171  \u001b[0m | \u001b[0m 33.34   \u001b[0m | \u001b[0m 91.26   \u001b[0m | \u001b[0m 0.6529  \u001b[0m |\n",
      "| \u001b[0m 15      \u001b[0m | \u001b[0m 0.2653  \u001b[0m | \u001b[0m 6.528   \u001b[0m | \u001b[0m 0.9163  \u001b[0m | \u001b[0m 0.1435  \u001b[0m | \u001b[0m 77.14   \u001b[0m | \u001b[0m 8.962   \u001b[0m | \u001b[0m 32.91   \u001b[0m | \u001b[0m 23.6    \u001b[0m | \u001b[0m 0.6687  \u001b[0m |\n",
      "| \u001b[0m 16      \u001b[0m | \u001b[0m 0.2946  \u001b[0m | \u001b[0m 6.358   \u001b[0m | \u001b[0m 0.7066  \u001b[0m | \u001b[0m 0.1831  \u001b[0m | \u001b[0m 35.23   \u001b[0m | \u001b[0m 6.599   \u001b[0m | \u001b[0m 26.44   \u001b[0m | \u001b[0m 50.91   \u001b[0m | \u001b[0m 0.5562  \u001b[0m |\n",
      "| \u001b[0m 17      \u001b[0m | \u001b[0m 0.289   \u001b[0m | \u001b[0m 4.125   \u001b[0m | \u001b[0m 0.6229  \u001b[0m | \u001b[0m 0.1367  \u001b[0m | \u001b[0m 97.44   \u001b[0m | \u001b[0m 2.156   \u001b[0m | \u001b[0m 35.73   \u001b[0m | \u001b[0m 12.86   \u001b[0m | \u001b[0m 0.8759  \u001b[0m |\n",
      "| \u001b[0m 18      \u001b[0m | \u001b[0m 0.27    \u001b[0m | \u001b[0m 7.017   \u001b[0m | \u001b[0m 0.9347  \u001b[0m | \u001b[0m 0.198   \u001b[0m | \u001b[0m 21.73   \u001b[0m | \u001b[0m 7.192   \u001b[0m | \u001b[0m 6.389   \u001b[0m | \u001b[0m 47.68   \u001b[0m | \u001b[0m 0.6266  \u001b[0m |\n",
      "| \u001b[0m 19      \u001b[0m | \u001b[0m 0.2975  \u001b[0m | \u001b[0m 1.062   \u001b[0m | \u001b[0m 0.6919  \u001b[0m | \u001b[0m 0.2601  \u001b[0m | \u001b[0m 11.04   \u001b[0m | \u001b[0m 9.867   \u001b[0m | \u001b[0m 15.5    \u001b[0m | \u001b[0m 74.93   \u001b[0m | \u001b[0m 0.7974  \u001b[0m |\n",
      "| \u001b[0m 20      \u001b[0m | \u001b[0m 0.2833  \u001b[0m | \u001b[0m 0.7776  \u001b[0m | \u001b[0m 0.8138  \u001b[0m | \u001b[0m 0.1163  \u001b[0m | \u001b[0m 90.18   \u001b[0m | \u001b[0m 8.183   \u001b[0m | \u001b[0m 22.97   \u001b[0m | \u001b[0m 83.83   \u001b[0m | \u001b[0m 0.589   \u001b[0m |\n",
      "| \u001b[95m 21      \u001b[0m | \u001b[95m 0.3334  \u001b[0m | \u001b[95m 6.459   \u001b[0m | \u001b[95m 0.5462  \u001b[0m | \u001b[95m 0.2506  \u001b[0m | \u001b[95m 36.25   \u001b[0m | \u001b[95m 6.777   \u001b[0m | \u001b[95m 25.78   \u001b[0m | \u001b[95m 49.77   \u001b[0m | \u001b[95m 0.9422  \u001b[0m |\n",
      "| \u001b[0m 22      \u001b[0m | \u001b[0m 0.3012  \u001b[0m | \u001b[0m 4.741   \u001b[0m | \u001b[0m 0.7108  \u001b[0m | \u001b[0m 0.1743  \u001b[0m | \u001b[0m 13.35   \u001b[0m | \u001b[0m 7.41    \u001b[0m | \u001b[0m 26.38   \u001b[0m | \u001b[0m 48.17   \u001b[0m | \u001b[0m 0.7132  \u001b[0m |\n",
      "| \u001b[0m 23      \u001b[0m | \u001b[0m 0.2815  \u001b[0m | \u001b[0m 3.441   \u001b[0m | \u001b[0m 0.8176  \u001b[0m | \u001b[0m 0.1366  \u001b[0m | \u001b[0m 14.58   \u001b[0m | \u001b[0m 4.772   \u001b[0m | \u001b[0m 25.93   \u001b[0m | \u001b[0m 46.8    \u001b[0m | \u001b[0m 0.5528  \u001b[0m |\n",
      "| \u001b[0m 24      \u001b[0m | \u001b[0m 0.279   \u001b[0m | \u001b[0m 3.108   \u001b[0m | \u001b[0m 0.8705  \u001b[0m | \u001b[0m 0.1189  \u001b[0m | \u001b[0m 87.29   \u001b[0m | \u001b[0m 8.282   \u001b[0m | \u001b[0m 41.84   \u001b[0m | \u001b[0m 83.65   \u001b[0m | \u001b[0m 0.6098  \u001b[0m |\n",
      "| \u001b[0m 25      \u001b[0m | \u001b[0m 0.2937  \u001b[0m | \u001b[0m 6.576   \u001b[0m | \u001b[0m 0.86    \u001b[0m | \u001b[0m 0.2396  \u001b[0m | \u001b[0m 34.55   \u001b[0m | \u001b[0m 6.366   \u001b[0m | \u001b[0m 25.5    \u001b[0m | \u001b[0m 50.53   \u001b[0m | \u001b[0m 0.7603  \u001b[0m |\n",
      "| \u001b[0m 26      \u001b[0m | \u001b[0m 0.2701  \u001b[0m | \u001b[0m 5.059   \u001b[0m | \u001b[0m 0.8118  \u001b[0m | \u001b[0m 0.09802 \u001b[0m | \u001b[0m 36.69   \u001b[0m | \u001b[0m 8.31    \u001b[0m | \u001b[0m 26.07   \u001b[0m | \u001b[0m 51.84   \u001b[0m | \u001b[0m 0.6583  \u001b[0m |\n",
      "| \u001b[0m 27      \u001b[0m | \u001b[0m 0.2943  \u001b[0m | \u001b[0m 4.404   \u001b[0m | \u001b[0m 0.6211  \u001b[0m | \u001b[0m 0.2609  \u001b[0m | \u001b[0m 36.23   \u001b[0m | \u001b[0m 7.353   \u001b[0m | \u001b[0m 23.56   \u001b[0m | \u001b[0m 47.98   \u001b[0m | \u001b[0m 0.667   \u001b[0m |\n",
      "| \u001b[0m 28      \u001b[0m | \u001b[0m 0.2895  \u001b[0m | \u001b[0m 1.508   \u001b[0m | \u001b[0m 0.6033  \u001b[0m | \u001b[0m 0.1134  \u001b[0m | \u001b[0m 12.35   \u001b[0m | \u001b[0m 9.101   \u001b[0m | \u001b[0m 16.4    \u001b[0m | \u001b[0m 75.78   \u001b[0m | \u001b[0m 0.7704  \u001b[0m |\n",
      "| \u001b[0m 29      \u001b[0m | \u001b[0m 0.3153  \u001b[0m | \u001b[0m 5.752   \u001b[0m | \u001b[0m 0.6329  \u001b[0m | \u001b[0m 0.1538  \u001b[0m | \u001b[0m 14.05   \u001b[0m | \u001b[0m 7.219   \u001b[0m | \u001b[0m 28.18   \u001b[0m | \u001b[0m 45.32   \u001b[0m | \u001b[0m 0.7804  \u001b[0m |\n",
      "| \u001b[0m 30      \u001b[0m | \u001b[0m 0.2692  \u001b[0m | \u001b[0m 5.248   \u001b[0m | \u001b[0m 0.9104  \u001b[0m | \u001b[0m 0.1756  \u001b[0m | \u001b[0m 15.03   \u001b[0m | \u001b[0m 5.825   \u001b[0m | \u001b[0m 26.13   \u001b[0m | \u001b[0m 49.58   \u001b[0m | \u001b[0m 0.5196  \u001b[0m |\n",
      "=========================================================================================================================\n"
     ]
    }
   ],
   "source": [
    "# Make parameter set for Tree booster\n",
    "params = {\n",
    "    \"eta\": (0.05, 0.3), \n",
    "    \"gamma\": (0, 100),\n",
    "    \"max_depth\": (5, 50), \n",
    "    \"num_boost_round\": (10, 100), \n",
    "    \"subsample\": (0.5, 0.95), \n",
    "    \"colsample_bytree\": (0.5, 0.95), \n",
    "    \"alpha\": (0, 10), \n",
    "    \"lamda\": (0, 10)} \n",
    "\n",
    "# Function handle\n",
    "f = partial(CV, X_train, y_train, skf)\n",
    "\n",
    "optimizer = BayesianOptimization(f, params, random_state = 111)\n",
    "optimizer.maximize(init_points = 20, n_iter = 10)\n"
   ]
  },
  {
   "cell_type": "markdown",
   "metadata": {},
   "source": [
    "Let's train the best model on all the data:"
   ]
  },
  {
   "cell_type": "code",
   "execution_count": 7,
   "metadata": {},
   "outputs": [],
   "source": [
    "# Make dmatrices\n",
    "dtrain = xgb.DMatrix(X_train, y_train)\n",
    "dheld  = xgb.DMatrix(X_holdout, y_holdout.to_numpy())\n",
    "\n",
    "# Scale positive instances\n",
    "sum_neg, sum_pos = np.sum(y_train == 0), np.sum(y_train == 1)\n",
    "\n",
    "# Make parameter dict for xgboost\n",
    "xgb_params = {\"nthread\": -1, \"booster\":\"gbtree\", \"objective\": \"binary:logistic\", \"eval_metric\": \"auc\", \"tree_method\": \"hist\",\n",
    "              \"eta\":              optimizer.max[\"params\"][\"eta\"], \n",
    "              \"gamma\":            optimizer.max[\"params\"][\"gamma\"], \n",
    "              \"max_depth\":        int(optimizer.max[\"params\"][\"max_depth\"]), \n",
    "              \"subsample\":        optimizer.max[\"params\"][\"subsample\"],\n",
    "              \"alpha\":            optimizer.max[\"params\"][\"alpha\"], \n",
    "              \"lambda\":           optimizer.max[\"params\"][\"lamda\"],\n",
    "              \"colsample_bytree\": optimizer.max[\"params\"][\"colsample_bytree\"],\n",
    "             \"scale_pos_weight\" : sum_neg / sum_pos}\n",
    "\n",
    "# Train using the parameters\n",
    "clf = xgb.train(params = xgb_params,\n",
    "                dtrain = dtrain,\n",
    "                feval  = mcc_eval,\n",
    "                evals  = [(dtrain, 'train')],\n",
    "                maximize = True,\n",
    "                verbose_eval = False,\n",
    "                num_boost_round = int(optimizer.max[\"params\"][\"num_boost_round\"]),\n",
    "                early_stopping_rounds = 10)"
   ]
  },
  {
   "cell_type": "markdown",
   "metadata": {},
   "source": [
    "Let's predict on the heldout set and compute the MCC:"
   ]
  },
  {
   "cell_type": "code",
   "execution_count": 8,
   "metadata": {},
   "outputs": [
    {
     "name": "stdout",
     "output_type": "stream",
     "text": [
      "Heldout Set MCC: 0.255\n"
     ]
    }
   ],
   "source": [
    "y_prob = clf.predict(dheld)\n",
    "print(f\"Heldout Set MCC: {round(eval_mcc(y_holdout.to_numpy(), y_prob), 3)}\")"
   ]
  }
 ],
 "metadata": {
  "kernelspec": {
   "display_name": "Python 3 (ipykernel)",
   "language": "python",
   "name": "python3"
  },
  "language_info": {
   "codemirror_mode": {
    "name": "ipython",
    "version": 3
   },
   "file_extension": ".py",
   "mimetype": "text/x-python",
   "name": "python",
   "nbconvert_exporter": "python",
   "pygments_lexer": "ipython3",
   "version": "3.7.11"
  }
 },
 "nbformat": 4,
 "nbformat_minor": 4
}
